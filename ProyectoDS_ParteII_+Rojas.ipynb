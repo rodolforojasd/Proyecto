{
 "cells": [
  {
   "cell_type": "code",
   "execution_count": 1,
   "metadata": {},
   "outputs": [],
   "source": [
    "\n",
    "#las librerias que uso las tengo instaladas localmente en el env de miniconda\n",
    "import pandas as pd\n",
    "import numpy as np\n",
    "import seaborn as sns\n",
    "import matplotlib.pyplot as plt\n",
    "from pandas import read_csv\n",
    "from sklearn import preprocessing\n",
    "from pathlib import Path\n",
    "import os\n",
    "from os import chdir\n",
    "import ipywidgets as widgets\n",
    "from ipywidgets import interact, interact_manual\n",
    "import plotly.express as px\n"
   ]
  },
  {
   "cell_type": "markdown",
   "metadata": {},
   "source": [
    "## Abstracto\n",
    "\n",
    "Este trabajo explora el potencial de aprovechar los datos de Glassdoor mediante algoritmos de machine learning. A pesar de desafíos como la tendencia a reseñas negativas y la falta de verificación de la experiencia laboral, los algoritmos pueden analizar patrones en las opiniones de los empleados para predecir tendencias y evaluar la satisfacción laboral. Usando algoritmos estadísticos y de aprendizaje automático pueden analizar datos numéricos como rangos salariales y puntuaciones de reseñas. Mediante métodos de regresión se pueden identificar correlaciones entre variables, permitiendo a las empresas entender cómo los factores como el salario impactan en la satisfacción laboral.Tambien algoritmos de procesamiento del lenguaje natural pueden analizar reseñas de empleados para extraer sentimientos y temas clave o transformar esta data cualitativa para nuestro analisis de regresión. \n",
    "\n",
    "Estos análisis pueden ayudar a las empresas a anticipar problemas, mejorar la retención de talento y fortalecer estrategias de marketing. A través de técnicas de machine learning, la información de Glassdoor se convierte en una herramienta poderosa para la toma de decisiones empresariales, permitiendo una comprensión más profunda y precisa del clima laboral y las percepciones de los empleados.\n",
    "\n",
    "### **Contexto empresarial:**\n",
    "Glassdoor se ha convertido en la única plataforma que permite ver a profesionales que buscan oportunidades laborales o que quieren tener una idea de una compañía o un punto de comparación a otras. Esta ventaja de mercado la convierte en la única fuente de opiniones  sobre cultura corporativa, rangos de salarios, etc. Está posición dominante lo hace una fuente única de información, además de ser un portal de empleo donde las personas que van aplicar, van a tener una reseña de la empresa que a la cual van aplicar. \n",
    "\n",
    "### **Problema empresarial:**\n",
    " Para cualquier compañía tener referencias es importante y a través de está información se puede hacer un modelo que ayude a ver qué variables predicen mejor la  tenencia de una opinión muy desfavorable o muy positiva. Este recurso es vital para las empresas al permitirles anticipar necesidades de fuerza laboral, fortalecer áreas clave y mejorar estrategias de atracción y retención de talentoútil para anticiparse a las necesidades de tu fuerza de trabajo, reforzar áreas donde puedes crear un fuerte impacto en el esfuerzo de atracción y retención de talento y además de ser una herramienta de mercadeo de la empresa.  \n",
    "\n",
    "\n",
    "### **Problema analítico:**\n",
    "\n",
    "A continuación analizamos algunos aspectos a considerar.Glassdoor, una plataforma líder en el mercado, proporciona valiosas opiniones sobre empresas, salarios y cultura corporativa, siendo una fuente crucial para profesionales y empleadores. Sin embargo, enfrenta desafíos, como la tendencia a reseñas negativas, especialmente tras despidos masivos, y la falta de verificación de la experiencia laboral de los usuarios. A pesar de estas limitaciones, Glassdoor sigue siendo una fuente única y pública de información en un mercado laboral opaco.El dataset tiene un foco especifico en el mercado laboral de UK.\n",
    "\n",
    "### **Comprende**:\n",
    "\n",
    "\n",
    "\n",
    "\n",
    "\n",
    " 1.   **date_review:**   Fecha en la que se realizó la reseña.        \n",
    " 2.   **job_title:**     Rol dentro de la empresa.       \n",
    " 3.   **current:**        Estatus dentro de la empresa actual.      \n",
    " 4.  **location:**        Lugar de la empresa (ciudad).    \n",
    " 5.  **overall_rating:** puntuación total de la empresa (entre 1-5).      \n",
    " 6.   **work_life_balance:**  opinión del equilibrio entre la vida y del trabajo (1-5) \n",
    " 7.   **culture_values:**   opinión de la cultura empresarial (1-5)    \n",
    " 8.   **diversity_inclusion:**  apreciación sobre el nivel de diversidad e inclusión (1-5)  \n",
    " 9.   **career_opp:** opinión sobre oportunidades dentro de la empresa (1-5)        \n",
    " 10.  ***comp_benefits:**   opinión sobre compensación y beneficios (1-5)    \n",
    " 11.  **senior_mgmt:**  apreciación sobre los directivos de la empresa (1-5).        \n",
    " 12.  **recommend:**   apreciación sobre si recomendarías esta compañia (\"mucho\",\"normal\", \"malo\").          \n",
    " 13.  **ceo_approv:** apreciación sobre el CEO o dueño de la compañia (\"mucho\",\"normal\", \"malo\")..         \n",
    " 14.  **outlook:**  apreciación sobre el futuro de la empresa (\"mucho\",\"normal\", \"malo\").            \n",
    " 15.  **headline:** comentario a manera de título sobre la empresa.          \n",
    " 16.  **pros:** comentarios positivos sobre la empresa.                \n",
    " 17.  **cons:** comentarios negativos sobre la empresa.\n",
    "\n",
    "\n",
    "## ***Hipotésis:***\n",
    "\n",
    " Qué factores ayudan a predecir una buena o mala puntuación sobre una comapañia?\n",
    " \n",
    " ### **Preguntas secundarias:**\n",
    " 1. Cuál es el área de más preocupación para una empresa?\n",
    " 2.  Hay una relación entre algunos de estos factores o son indepndientes?\n",
    " 3. Afecta el rol en lo que se valora más?\n",
    " 4.  Estas variables son las mismas dependiendo del tipo de compañia o el sector?\n",
    " 5. Se puede hacer un perfil de valoración por empresa?\n",
    "\n"
   ]
  },
  {
   "cell_type": "code",
   "execution_count": 2,
   "metadata": {},
   "outputs": [
    {
     "name": "stdout",
     "output_type": "stream",
     "text": [
      "https://docs.google.com/spreadsheets/d/1Ep8fVrEiaURMXTvh8QgHGmnutUzus0lOUhMEcNUkGIs/gviz/tq?tqx=out:csv&sheet=reviews\n"
     ]
    }
   ],
   "source": [
    "# os.chdir(\"C:/Users/Rodolfo/Downloads\")\n",
    "# os.getcwd()\n",
    "\n",
    "# glassdoor_reviews:\n",
    "\n",
    "googleSheetId = '1Ep8fVrEiaURMXTvh8QgHGmnutUzus0lOUhMEcNUkGIs'\n",
    "workSheetName = 'reviews'\n",
    "\n",
    "url ='https://docs.google.com/spreadsheets/d/{0}/gviz/tq?tqx=out:csv&sheet={1}'.format(\n",
    "    googleSheetId,\n",
    "    workSheetName\n",
    ")\n",
    "\n",
    "\n",
    "print(url)\n",
    "# industries:\n",
    "# https://docs.google.com/spreadsheets/d/1NxVL_c17vpUwiaUS72n0SV9-OvCrOKNIUREFKdSHM2Q/edit?usp=share_link\n",
    "googleSheetId2 = '1NxVL_c17vpUwiaUS72n0SV9-OvCrOKNIUREFKdSHM2Q'\n",
    "workSheetName2 = 'industries'\n",
    "url2 ='https://docs.google.com/spreadsheets/d/{0}/gviz/tq?tqx=out:csv&sheet={1}'.format(\n",
    "    googleSheetId2,\n",
    "    workSheetName2\n",
    ")\n",
    "\n"
   ]
  },
  {
   "cell_type": "code",
   "execution_count": 3,
   "metadata": {},
   "outputs": [
    {
     "data": {
      "text/html": [
       "<div>\n",
       "<style scoped>\n",
       "    .dataframe tbody tr th:only-of-type {\n",
       "        vertical-align: middle;\n",
       "    }\n",
       "\n",
       "    .dataframe tbody tr th {\n",
       "        vertical-align: top;\n",
       "    }\n",
       "\n",
       "    .dataframe thead th {\n",
       "        text-align: right;\n",
       "    }\n",
       "</style>\n",
       "<table border=\"1\" class=\"dataframe\">\n",
       "  <thead>\n",
       "    <tr style=\"text-align: right;\">\n",
       "      <th></th>\n",
       "      <th>firm</th>\n",
       "      <th>date_review</th>\n",
       "      <th>job_title</th>\n",
       "      <th>current</th>\n",
       "      <th>location</th>\n",
       "      <th>overall_rating</th>\n",
       "      <th>work_life_balance</th>\n",
       "      <th>culture_values</th>\n",
       "      <th>diversity_inclusion</th>\n",
       "      <th>career_opp</th>\n",
       "      <th>comp_benefits</th>\n",
       "      <th>senior_mgmt</th>\n",
       "      <th>recommend</th>\n",
       "      <th>ceo_approv</th>\n",
       "      <th>outlook</th>\n",
       "      <th>headline</th>\n",
       "      <th>pros</th>\n",
       "      <th>cons</th>\n",
       "    </tr>\n",
       "  </thead>\n",
       "  <tbody>\n",
       "    <tr>\n",
       "      <th>0</th>\n",
       "      <td>AFH-Wealth-Management</td>\n",
       "      <td>2015-04-05</td>\n",
       "      <td>NaN</td>\n",
       "      <td>Current Employee</td>\n",
       "      <td>NaN</td>\n",
       "      <td>2</td>\n",
       "      <td>4.0</td>\n",
       "      <td>3.0</td>\n",
       "      <td>NaN</td>\n",
       "      <td>2.0</td>\n",
       "      <td>3.0</td>\n",
       "      <td>3.0</td>\n",
       "      <td>x</td>\n",
       "      <td>o</td>\n",
       "      <td>r</td>\n",
       "      <td>Young colleagues, poor micro management</td>\n",
       "      <td>Very friendly and welcoming to new staff. Easy...</td>\n",
       "      <td>Poor salaries, poor training and communication.</td>\n",
       "    </tr>\n",
       "    <tr>\n",
       "      <th>1</th>\n",
       "      <td>AFH-Wealth-Management</td>\n",
       "      <td>2015-12-11</td>\n",
       "      <td>Office Administrator</td>\n",
       "      <td>Current Employee, more than 1 year</td>\n",
       "      <td>Bromsgrove, England, England</td>\n",
       "      <td>2</td>\n",
       "      <td>3.0</td>\n",
       "      <td>1.0</td>\n",
       "      <td>NaN</td>\n",
       "      <td>2.0</td>\n",
       "      <td>1.0</td>\n",
       "      <td>4.0</td>\n",
       "      <td>x</td>\n",
       "      <td>o</td>\n",
       "      <td>r</td>\n",
       "      <td>Excellent staff, poor salary</td>\n",
       "      <td>Friendly, helpful and hard-working colleagues</td>\n",
       "      <td>Poor salary which doesn't improve much with pr...</td>\n",
       "    </tr>\n",
       "    <tr>\n",
       "      <th>2</th>\n",
       "      <td>AFH-Wealth-Management</td>\n",
       "      <td>2016-01-28</td>\n",
       "      <td>Office Administrator</td>\n",
       "      <td>Current Employee, less than 1 year</td>\n",
       "      <td>Bromsgrove, England, England</td>\n",
       "      <td>1</td>\n",
       "      <td>1.0</td>\n",
       "      <td>1.0</td>\n",
       "      <td>NaN</td>\n",
       "      <td>1.0</td>\n",
       "      <td>1.0</td>\n",
       "      <td>1.0</td>\n",
       "      <td>x</td>\n",
       "      <td>o</td>\n",
       "      <td>x</td>\n",
       "      <td>Low salary, bad micromanagement</td>\n",
       "      <td>Easy to get the job even without experience in...</td>\n",
       "      <td>Very low salary, poor working conditions, very...</td>\n",
       "    </tr>\n",
       "    <tr>\n",
       "      <th>3</th>\n",
       "      <td>AFH-Wealth-Management</td>\n",
       "      <td>2016-04-16</td>\n",
       "      <td>NaN</td>\n",
       "      <td>Current Employee</td>\n",
       "      <td>NaN</td>\n",
       "      <td>5</td>\n",
       "      <td>2.0</td>\n",
       "      <td>3.0</td>\n",
       "      <td>NaN</td>\n",
       "      <td>2.0</td>\n",
       "      <td>2.0</td>\n",
       "      <td>3.0</td>\n",
       "      <td>x</td>\n",
       "      <td>o</td>\n",
       "      <td>r</td>\n",
       "      <td>Over promised under delivered</td>\n",
       "      <td>Nice staff to work with</td>\n",
       "      <td>No career progression and salary is poor</td>\n",
       "    </tr>\n",
       "    <tr>\n",
       "      <th>4</th>\n",
       "      <td>AFH-Wealth-Management</td>\n",
       "      <td>2016-04-23</td>\n",
       "      <td>Office Administrator</td>\n",
       "      <td>Current Employee, more than 1 year</td>\n",
       "      <td>Bromsgrove, England, England</td>\n",
       "      <td>1</td>\n",
       "      <td>2.0</td>\n",
       "      <td>1.0</td>\n",
       "      <td>NaN</td>\n",
       "      <td>2.0</td>\n",
       "      <td>1.0</td>\n",
       "      <td>1.0</td>\n",
       "      <td>x</td>\n",
       "      <td>o</td>\n",
       "      <td>x</td>\n",
       "      <td>client reporting admin</td>\n",
       "      <td>Easy to get the job, Nice colleagues.</td>\n",
       "      <td>Abysmal pay, around minimum wage. No actual tr...</td>\n",
       "    </tr>\n",
       "    <tr>\n",
       "      <th>5</th>\n",
       "      <td>AFH-Wealth-Management</td>\n",
       "      <td>2016-05-26</td>\n",
       "      <td>Office Administrator</td>\n",
       "      <td>Current Employee, less than 1 year</td>\n",
       "      <td>NaN</td>\n",
       "      <td>3</td>\n",
       "      <td>4.0</td>\n",
       "      <td>2.0</td>\n",
       "      <td>NaN</td>\n",
       "      <td>2.0</td>\n",
       "      <td>3.0</td>\n",
       "      <td>2.0</td>\n",
       "      <td>o</td>\n",
       "      <td>r</td>\n",
       "      <td>r</td>\n",
       "      <td>Office administrator</td>\n",
       "      <td>Some good people to work with.\\n\\nFlexible wor...</td>\n",
       "      <td>Morale.\\n\\nLack of managerial structure.\\n\\nDo...</td>\n",
       "    </tr>\n",
       "    <tr>\n",
       "      <th>6</th>\n",
       "      <td>AFH-Wealth-Management</td>\n",
       "      <td>2016-09-23</td>\n",
       "      <td>IFA</td>\n",
       "      <td>Former Employee</td>\n",
       "      <td>Bromsgrove, England, England</td>\n",
       "      <td>1</td>\n",
       "      <td>1.0</td>\n",
       "      <td>1.0</td>\n",
       "      <td>NaN</td>\n",
       "      <td>1.0</td>\n",
       "      <td>1.0</td>\n",
       "      <td>1.0</td>\n",
       "      <td>x</td>\n",
       "      <td>o</td>\n",
       "      <td>r</td>\n",
       "      <td>It horrible management</td>\n",
       "      <td>Good investment management strategy. Overall t...</td>\n",
       "      <td>The management and seniors are ruthless. No tr...</td>\n",
       "    </tr>\n",
       "    <tr>\n",
       "      <th>7</th>\n",
       "      <td>AFH-Wealth-Management</td>\n",
       "      <td>2016-09-25</td>\n",
       "      <td>Anonymous Employee</td>\n",
       "      <td>Current Employee, more than 5 years</td>\n",
       "      <td>Century City, CA</td>\n",
       "      <td>5</td>\n",
       "      <td>5.0</td>\n",
       "      <td>5.0</td>\n",
       "      <td>NaN</td>\n",
       "      <td>5.0</td>\n",
       "      <td>4.0</td>\n",
       "      <td>5.0</td>\n",
       "      <td>v</td>\n",
       "      <td>o</td>\n",
       "      <td>v</td>\n",
       "      <td>Good place to work</td>\n",
       "      <td>The people are great and the culture is very f...</td>\n",
       "      <td>Wouldn't necessarily say there are any cons to...</td>\n",
       "    </tr>\n",
       "  </tbody>\n",
       "</table>\n",
       "</div>"
      ],
      "text/plain": [
       "                    firm date_review             job_title  \\\n",
       "0  AFH-Wealth-Management  2015-04-05                   NaN   \n",
       "1  AFH-Wealth-Management  2015-12-11  Office Administrator   \n",
       "2  AFH-Wealth-Management  2016-01-28  Office Administrator   \n",
       "3  AFH-Wealth-Management  2016-04-16                   NaN   \n",
       "4  AFH-Wealth-Management  2016-04-23  Office Administrator   \n",
       "5  AFH-Wealth-Management  2016-05-26  Office Administrator   \n",
       "6  AFH-Wealth-Management  2016-09-23                   IFA   \n",
       "7  AFH-Wealth-Management  2016-09-25    Anonymous Employee   \n",
       "\n",
       "                               current                      location  \\\n",
       "0                     Current Employee                           NaN   \n",
       "1   Current Employee, more than 1 year  Bromsgrove, England, England   \n",
       "2   Current Employee, less than 1 year  Bromsgrove, England, England   \n",
       "3                     Current Employee                           NaN   \n",
       "4   Current Employee, more than 1 year  Bromsgrove, England, England   \n",
       "5   Current Employee, less than 1 year                           NaN   \n",
       "6                      Former Employee  Bromsgrove, England, England   \n",
       "7  Current Employee, more than 5 years              Century City, CA   \n",
       "\n",
       "   overall_rating  work_life_balance  culture_values  diversity_inclusion  \\\n",
       "0               2                4.0             3.0                  NaN   \n",
       "1               2                3.0             1.0                  NaN   \n",
       "2               1                1.0             1.0                  NaN   \n",
       "3               5                2.0             3.0                  NaN   \n",
       "4               1                2.0             1.0                  NaN   \n",
       "5               3                4.0             2.0                  NaN   \n",
       "6               1                1.0             1.0                  NaN   \n",
       "7               5                5.0             5.0                  NaN   \n",
       "\n",
       "   career_opp  comp_benefits  senior_mgmt recommend ceo_approv outlook  \\\n",
       "0         2.0            3.0          3.0         x          o       r   \n",
       "1         2.0            1.0          4.0         x          o       r   \n",
       "2         1.0            1.0          1.0         x          o       x   \n",
       "3         2.0            2.0          3.0         x          o       r   \n",
       "4         2.0            1.0          1.0         x          o       x   \n",
       "5         2.0            3.0          2.0         o          r       r   \n",
       "6         1.0            1.0          1.0         x          o       r   \n",
       "7         5.0            4.0          5.0         v          o       v   \n",
       "\n",
       "                                  headline  \\\n",
       "0  Young colleagues, poor micro management   \n",
       "1             Excellent staff, poor salary   \n",
       "2          Low salary, bad micromanagement   \n",
       "3            Over promised under delivered   \n",
       "4                   client reporting admin   \n",
       "5                     Office administrator   \n",
       "6                   It horrible management   \n",
       "7                       Good place to work   \n",
       "\n",
       "                                                pros  \\\n",
       "0  Very friendly and welcoming to new staff. Easy...   \n",
       "1      Friendly, helpful and hard-working colleagues   \n",
       "2  Easy to get the job even without experience in...   \n",
       "3                            Nice staff to work with   \n",
       "4              Easy to get the job, Nice colleagues.   \n",
       "5  Some good people to work with.\\n\\nFlexible wor...   \n",
       "6  Good investment management strategy. Overall t...   \n",
       "7  The people are great and the culture is very f...   \n",
       "\n",
       "                                                cons  \n",
       "0    Poor salaries, poor training and communication.  \n",
       "1  Poor salary which doesn't improve much with pr...  \n",
       "2  Very low salary, poor working conditions, very...  \n",
       "3           No career progression and salary is poor  \n",
       "4  Abysmal pay, around minimum wage. No actual tr...  \n",
       "5  Morale.\\n\\nLack of managerial structure.\\n\\nDo...  \n",
       "6  The management and seniors are ruthless. No tr...  \n",
       "7  Wouldn't necessarily say there are any cons to...  "
      ]
     },
     "execution_count": 3,
     "metadata": {},
     "output_type": "execute_result"
    }
   ],
   "source": [
    "df = read_csv(url)\n",
    "industries = read_csv(url2)\n",
    "\n",
    "df.head(8)"
   ]
  },
  {
   "cell_type": "code",
   "execution_count": 4,
   "metadata": {},
   "outputs": [
    {
     "data": {
      "text/plain": [
       "overall_rating\n",
       "4    98350\n",
       "5    76079\n",
       "3    65455\n",
       "2    25372\n",
       "1    21118\n",
       "Name: count, dtype: int64"
      ]
     },
     "execution_count": 4,
     "metadata": {},
     "output_type": "execute_result"
    }
   ],
   "source": [
    "df['overall_rating'].value_counts()"
   ]
  },
  {
   "cell_type": "markdown",
   "metadata": {},
   "source": []
  },
  {
   "cell_type": "code",
   "execution_count": 5,
   "metadata": {},
   "outputs": [
    {
     "data": {
      "text/html": [
       "<div>\n",
       "<style scoped>\n",
       "    .dataframe tbody tr th:only-of-type {\n",
       "        vertical-align: middle;\n",
       "    }\n",
       "\n",
       "    .dataframe tbody tr th {\n",
       "        vertical-align: top;\n",
       "    }\n",
       "\n",
       "    .dataframe thead th {\n",
       "        text-align: right;\n",
       "    }\n",
       "</style>\n",
       "<table border=\"1\" class=\"dataframe\">\n",
       "  <thead>\n",
       "    <tr style=\"text-align: right;\">\n",
       "      <th></th>\n",
       "      <th>firm</th>\n",
       "      <th>date_review</th>\n",
       "      <th>job_title</th>\n",
       "      <th>current</th>\n",
       "      <th>location</th>\n",
       "      <th>overall_rating</th>\n",
       "      <th>work_life_balance</th>\n",
       "      <th>culture_values</th>\n",
       "      <th>diversity_inclusion</th>\n",
       "      <th>career_opp</th>\n",
       "      <th>comp_benefits</th>\n",
       "      <th>senior_mgmt</th>\n",
       "      <th>recommend</th>\n",
       "      <th>ceo_approv</th>\n",
       "      <th>outlook</th>\n",
       "      <th>headline</th>\n",
       "      <th>pros</th>\n",
       "      <th>cons</th>\n",
       "    </tr>\n",
       "  </thead>\n",
       "  <tbody>\n",
       "    <tr>\n",
       "      <th>0</th>\n",
       "      <td>AFH-Wealth-Management</td>\n",
       "      <td>2015-04-05</td>\n",
       "      <td>NaN</td>\n",
       "      <td>Current Employee</td>\n",
       "      <td>NaN</td>\n",
       "      <td>2</td>\n",
       "      <td>4.0</td>\n",
       "      <td>3.0</td>\n",
       "      <td>NaN</td>\n",
       "      <td>2.0</td>\n",
       "      <td>3.0</td>\n",
       "      <td>3.0</td>\n",
       "      <td>x</td>\n",
       "      <td>o</td>\n",
       "      <td>r</td>\n",
       "      <td>Young colleagues, poor micro management</td>\n",
       "      <td>Very friendly and welcoming to new staff. Easy...</td>\n",
       "      <td>Poor salaries, poor training and communication.</td>\n",
       "    </tr>\n",
       "    <tr>\n",
       "      <th>1</th>\n",
       "      <td>AFH-Wealth-Management</td>\n",
       "      <td>2015-12-11</td>\n",
       "      <td>Office Administrator</td>\n",
       "      <td>Current Employee, more than 1 year</td>\n",
       "      <td>Bromsgrove, England, England</td>\n",
       "      <td>2</td>\n",
       "      <td>3.0</td>\n",
       "      <td>1.0</td>\n",
       "      <td>NaN</td>\n",
       "      <td>2.0</td>\n",
       "      <td>1.0</td>\n",
       "      <td>4.0</td>\n",
       "      <td>x</td>\n",
       "      <td>o</td>\n",
       "      <td>r</td>\n",
       "      <td>Excellent staff, poor salary</td>\n",
       "      <td>Friendly, helpful and hard-working colleagues</td>\n",
       "      <td>Poor salary which doesn't improve much with pr...</td>\n",
       "    </tr>\n",
       "    <tr>\n",
       "      <th>2</th>\n",
       "      <td>AFH-Wealth-Management</td>\n",
       "      <td>2016-01-28</td>\n",
       "      <td>Office Administrator</td>\n",
       "      <td>Current Employee, less than 1 year</td>\n",
       "      <td>Bromsgrove, England, England</td>\n",
       "      <td>1</td>\n",
       "      <td>1.0</td>\n",
       "      <td>1.0</td>\n",
       "      <td>NaN</td>\n",
       "      <td>1.0</td>\n",
       "      <td>1.0</td>\n",
       "      <td>1.0</td>\n",
       "      <td>x</td>\n",
       "      <td>o</td>\n",
       "      <td>x</td>\n",
       "      <td>Low salary, bad micromanagement</td>\n",
       "      <td>Easy to get the job even without experience in...</td>\n",
       "      <td>Very low salary, poor working conditions, very...</td>\n",
       "    </tr>\n",
       "    <tr>\n",
       "      <th>3</th>\n",
       "      <td>AFH-Wealth-Management</td>\n",
       "      <td>2016-04-16</td>\n",
       "      <td>NaN</td>\n",
       "      <td>Current Employee</td>\n",
       "      <td>NaN</td>\n",
       "      <td>5</td>\n",
       "      <td>2.0</td>\n",
       "      <td>3.0</td>\n",
       "      <td>NaN</td>\n",
       "      <td>2.0</td>\n",
       "      <td>2.0</td>\n",
       "      <td>3.0</td>\n",
       "      <td>x</td>\n",
       "      <td>o</td>\n",
       "      <td>r</td>\n",
       "      <td>Over promised under delivered</td>\n",
       "      <td>Nice staff to work with</td>\n",
       "      <td>No career progression and salary is poor</td>\n",
       "    </tr>\n",
       "    <tr>\n",
       "      <th>4</th>\n",
       "      <td>AFH-Wealth-Management</td>\n",
       "      <td>2016-04-23</td>\n",
       "      <td>Office Administrator</td>\n",
       "      <td>Current Employee, more than 1 year</td>\n",
       "      <td>Bromsgrove, England, England</td>\n",
       "      <td>1</td>\n",
       "      <td>2.0</td>\n",
       "      <td>1.0</td>\n",
       "      <td>NaN</td>\n",
       "      <td>2.0</td>\n",
       "      <td>1.0</td>\n",
       "      <td>1.0</td>\n",
       "      <td>x</td>\n",
       "      <td>o</td>\n",
       "      <td>x</td>\n",
       "      <td>client reporting admin</td>\n",
       "      <td>Easy to get the job, Nice colleagues.</td>\n",
       "      <td>Abysmal pay, around minimum wage. No actual tr...</td>\n",
       "    </tr>\n",
       "    <tr>\n",
       "      <th>5</th>\n",
       "      <td>AFH-Wealth-Management</td>\n",
       "      <td>2016-05-26</td>\n",
       "      <td>Office Administrator</td>\n",
       "      <td>Current Employee, less than 1 year</td>\n",
       "      <td>NaN</td>\n",
       "      <td>3</td>\n",
       "      <td>4.0</td>\n",
       "      <td>2.0</td>\n",
       "      <td>NaN</td>\n",
       "      <td>2.0</td>\n",
       "      <td>3.0</td>\n",
       "      <td>2.0</td>\n",
       "      <td>o</td>\n",
       "      <td>r</td>\n",
       "      <td>r</td>\n",
       "      <td>Office administrator</td>\n",
       "      <td>Some good people to work with.\\n\\nFlexible wor...</td>\n",
       "      <td>Morale.\\n\\nLack of managerial structure.\\n\\nDo...</td>\n",
       "    </tr>\n",
       "  </tbody>\n",
       "</table>\n",
       "</div>"
      ],
      "text/plain": [
       "                    firm date_review             job_title  \\\n",
       "0  AFH-Wealth-Management  2015-04-05                   NaN   \n",
       "1  AFH-Wealth-Management  2015-12-11  Office Administrator   \n",
       "2  AFH-Wealth-Management  2016-01-28  Office Administrator   \n",
       "3  AFH-Wealth-Management  2016-04-16                   NaN   \n",
       "4  AFH-Wealth-Management  2016-04-23  Office Administrator   \n",
       "5  AFH-Wealth-Management  2016-05-26  Office Administrator   \n",
       "\n",
       "                              current                      location  \\\n",
       "0                    Current Employee                           NaN   \n",
       "1  Current Employee, more than 1 year  Bromsgrove, England, England   \n",
       "2  Current Employee, less than 1 year  Bromsgrove, England, England   \n",
       "3                    Current Employee                           NaN   \n",
       "4  Current Employee, more than 1 year  Bromsgrove, England, England   \n",
       "5  Current Employee, less than 1 year                           NaN   \n",
       "\n",
       "   overall_rating  work_life_balance  culture_values  diversity_inclusion  \\\n",
       "0               2                4.0             3.0                  NaN   \n",
       "1               2                3.0             1.0                  NaN   \n",
       "2               1                1.0             1.0                  NaN   \n",
       "3               5                2.0             3.0                  NaN   \n",
       "4               1                2.0             1.0                  NaN   \n",
       "5               3                4.0             2.0                  NaN   \n",
       "\n",
       "   career_opp  comp_benefits  senior_mgmt recommend ceo_approv outlook  \\\n",
       "0         2.0            3.0          3.0         x          o       r   \n",
       "1         2.0            1.0          4.0         x          o       r   \n",
       "2         1.0            1.0          1.0         x          o       x   \n",
       "3         2.0            2.0          3.0         x          o       r   \n",
       "4         2.0            1.0          1.0         x          o       x   \n",
       "5         2.0            3.0          2.0         o          r       r   \n",
       "\n",
       "                                  headline  \\\n",
       "0  Young colleagues, poor micro management   \n",
       "1             Excellent staff, poor salary   \n",
       "2          Low salary, bad micromanagement   \n",
       "3            Over promised under delivered   \n",
       "4                   client reporting admin   \n",
       "5                     Office administrator   \n",
       "\n",
       "                                                pros  \\\n",
       "0  Very friendly and welcoming to new staff. Easy...   \n",
       "1      Friendly, helpful and hard-working colleagues   \n",
       "2  Easy to get the job even without experience in...   \n",
       "3                            Nice staff to work with   \n",
       "4              Easy to get the job, Nice colleagues.   \n",
       "5  Some good people to work with.\\n\\nFlexible wor...   \n",
       "\n",
       "                                                cons  \n",
       "0    Poor salaries, poor training and communication.  \n",
       "1  Poor salary which doesn't improve much with pr...  \n",
       "2  Very low salary, poor working conditions, very...  \n",
       "3           No career progression and salary is poor  \n",
       "4  Abysmal pay, around minimum wage. No actual tr...  \n",
       "5  Morale.\\n\\nLack of managerial structure.\\n\\nDo...  "
      ]
     },
     "execution_count": 5,
     "metadata": {},
     "output_type": "execute_result"
    }
   ],
   "source": [
    "df.head(6)"
   ]
  },
  {
   "cell_type": "code",
   "execution_count": 6,
   "metadata": {},
   "outputs": [
    {
     "data": {
      "text/plain": [
       "Index(['firm', 'date_review', 'job_title', 'current', 'location',\n",
       "       'overall_rating', 'work_life_balance', 'culture_values',\n",
       "       'diversity_inclusion', 'career_opp', 'comp_benefits', 'senior_mgmt',\n",
       "       'recommend', 'ceo_approv', 'outlook', 'headline', 'pros', 'cons'],\n",
       "      dtype='object')"
      ]
     },
     "execution_count": 6,
     "metadata": {},
     "output_type": "execute_result"
    }
   ],
   "source": [
    "df.describe()\n",
    "\n",
    "df.columns"
   ]
  },
  {
   "cell_type": "code",
   "execution_count": 7,
   "metadata": {},
   "outputs": [
    {
     "name": "stdout",
     "output_type": "stream",
     "text": [
      "<class 'pandas.core.frame.DataFrame'>\n",
      "RangeIndex: 286374 entries, 0 to 286373\n",
      "Data columns (total 18 columns):\n",
      " #   Column               Non-Null Count   Dtype  \n",
      "---  ------               --------------   -----  \n",
      " 0   firm                 286374 non-null  object \n",
      " 1   date_review          286374 non-null  object \n",
      " 2   job_title            259076 non-null  object \n",
      " 3   current              286374 non-null  object \n",
      " 4   location             188641 non-null  object \n",
      " 5   overall_rating       286374 non-null  int64  \n",
      " 6   work_life_balance    238886 non-null  float64\n",
      " 7   culture_values       224590 non-null  float64\n",
      " 8   diversity_inclusion  47964 non-null   float64\n",
      " 9   career_opp           239451 non-null  float64\n",
      " 10  comp_benefits        238888 non-null  float64\n",
      " 11  senior_mgmt          237138 non-null  float64\n",
      " 12  recommend            286374 non-null  object \n",
      " 13  ceo_approv           286374 non-null  object \n",
      " 14  outlook              286374 non-null  object \n",
      " 15  headline             285444 non-null  object \n",
      " 16  pros                 286373 non-null  object \n",
      " 17  cons                 286368 non-null  object \n",
      "dtypes: float64(6), int64(1), object(11)\n",
      "memory usage: 39.3+ MB\n"
     ]
    }
   ],
   "source": [
    "df.info()"
   ]
  },
  {
   "cell_type": "markdown",
   "metadata": {},
   "source": [
    "> A simple vista podemos observar que hay las columnas de \"location\" y \"diversity_inclusion\" tienen un numero importante de valores nulos. Lo cual puede hacer su uso en un modelo dificil. También hay columnas, como \"job_title\", que tienen valores vacios que hay que manejar. Primero convirtiendolos en nulos y después, dependiendo de la cantidad, ver que estrategía utilizar para poder aprovecharlos."
   ]
  },
  {
   "cell_type": "code",
   "execution_count": 8,
   "metadata": {},
   "outputs": [
    {
     "data": {
      "text/plain": [
       "9168"
      ]
     },
     "execution_count": 8,
     "metadata": {},
     "output_type": "execute_result"
    }
   ],
   "source": [
    "df.duplicated().sum()"
   ]
  },
  {
   "cell_type": "code",
   "execution_count": null,
   "metadata": {},
   "outputs": [],
   "source": []
  },
  {
   "cell_type": "markdown",
   "metadata": {},
   "source": [
    "# Variable Target: Overall_Rating\n",
    "\n",
    "La variable objetivo es de tipo númerica, así que podemos utilizar un modelo de tipo Aprendizaje supervisado y algoritmos de Regresión.\n",
    "\n",
    "Se explorarán en consiguiente el comportamiento de la variable con algunos analisis estadísticos. \n",
    "\n",
    "\n"
   ]
  },
  {
   "cell_type": "code",
   "execution_count": 9,
   "metadata": {},
   "outputs": [
    {
     "data": {
      "text/plain": [
       "count    286374.00\n",
       "mean          3.64\n",
       "std           1.18\n",
       "min           1.00\n",
       "25%           3.00\n",
       "50%           4.00\n",
       "75%           5.00\n",
       "max           5.00\n",
       "Name: overall_rating, dtype: float64"
      ]
     },
     "execution_count": 9,
     "metadata": {},
     "output_type": "execute_result"
    }
   ],
   "source": [
    "target_variable = df['overall_rating']\n",
    "\n",
    "target_variable.describe().round(2)"
   ]
  },
  {
   "cell_type": "code",
   "execution_count": 10,
   "metadata": {},
   "outputs": [
    {
     "name": "stdout",
     "output_type": "stream",
     "text": [
      "3.63867529873522\n"
     ]
    },
    {
     "name": "stderr",
     "output_type": "stream",
     "text": [
      "c:\\Users\\Rodolfo\\miniconda3\\Lib\\site-packages\\seaborn\\_oldcore.py:1498: FutureWarning: is_categorical_dtype is deprecated and will be removed in a future version. Use isinstance(dtype, CategoricalDtype) instead\n",
      "  if pd.api.types.is_categorical_dtype(vector):\n",
      "c:\\Users\\Rodolfo\\miniconda3\\Lib\\site-packages\\seaborn\\_oldcore.py:1119: FutureWarning: use_inf_as_na option is deprecated and will be removed in a future version. Convert inf values to NaN before operating instead.\n",
      "  with pd.option_context('mode.use_inf_as_na', True):\n"
     ]
    },
    {
     "data": {
      "text/plain": [
       "Text(0.5, 1.0, 'Distribución de Overall_Rating')"
      ]
     },
     "execution_count": 10,
     "metadata": {},
     "output_type": "execute_result"
    },
    {
     "data": {
      "image/png": "[encoded data removed]",
      "text/plain": [
       "<Figure size 640x480 with 1 Axes>"
      ]
     },
     "metadata": {},
     "output_type": "display_data"
    }
   ],
   "source": [
    "#Distribución de variable target \n",
    "media = target_variable.mean()\n",
    "mediana = target_variable.median()\n",
    "primer_cuartil = target_variable.quantile(0.25)\n",
    "tercer_cuartil = target_variable.quantile(0.75)\n",
    "\n",
    "print(media)\n",
    "plt.figure()\n",
    "# Histograma\n",
    "sns.histplot(data = df,\n",
    "             x = 'overall_rating',\n",
    "             bins = 5,            \n",
    "             alpha = 0.25,\n",
    "             discrete= True,\n",
    "             kde = True,\n",
    "             kde_kws = dict(\n",
    "                 bw_adjust=9\n",
    "             ),\n",
    "             stat='probability')\n",
    "# Agrego linea de promedio \n",
    "plt.axvline(x = media, \n",
    "            color = 'red', \n",
    "            linestyle = '-', \n",
    "            label = 'Promedio',\n",
    "            linewidth = 3)\n",
    "# Agrego linea de mediana \n",
    "plt.axvline(x = mediana, \n",
    "            color = '#11B613', \n",
    "            linestyle = '-', \n",
    "            label = 'Mediana',\n",
    "            linewidth = 3)\n",
    "# Agrego linea de primer cuartil \n",
    "plt.axvline(x = primer_cuartil, \n",
    "            color = 'black', \n",
    "            linestyle = '--', \n",
    "            label = 'Primer Cuartil',\n",
    "            linewidth = 2)\n",
    "# Agrego linea de tercer cuartil \n",
    "plt.axvline(x = tercer_cuartil, \n",
    "            color = 'black', \n",
    "            linestyle = '--', \n",
    "            label = 'Tercer Cuartil',\n",
    "            linewidth = 2)\n",
    "\n",
    "plt.legend()\n",
    "\n",
    "plt.title('Distribución de Overall_Rating')\n",
    "\n"
   ]
  },
  {
   "cell_type": "markdown",
   "metadata": {},
   "source": [
    "## Analisis de  variable Target: Overall_Rating\n",
    "\n",
    "La variable objetivo sigue una distribución asimetrica neativa (la mediana es mayor que el promedio), concentrando una porción importante en reseñas con valores altos, y se observan pocos valores bajos.\n",
    "\n",
    "Para este tipo de distibuciones, es apropiado utilizar una técnica de normalización que permita preparar nuestra data para otro tipo de análisis.\n",
    "\n",
    "Se preesentará a continuación la distribución con "
   ]
  },
  {
   "cell_type": "code",
   "execution_count": 11,
   "metadata": {},
   "outputs": [
    {
     "name": "stdout",
     "output_type": "stream",
     "text": [
      "[[2]\n",
      " [2]\n",
      " [1]\n",
      " ...\n",
      " [3]\n",
      " [4]\n",
      " [5]]\n"
     ]
    },
    {
     "name": "stderr",
     "output_type": "stream",
     "text": [
      "c:\\Users\\Rodolfo\\miniconda3\\Lib\\site-packages\\seaborn\\_oldcore.py:1498: FutureWarning: is_categorical_dtype is deprecated and will be removed in a future version. Use isinstance(dtype, CategoricalDtype) instead\n",
      "  if pd.api.types.is_categorical_dtype(vector):\n",
      "c:\\Users\\Rodolfo\\miniconda3\\Lib\\site-packages\\seaborn\\_oldcore.py:1498: FutureWarning: is_categorical_dtype is deprecated and will be removed in a future version. Use isinstance(dtype, CategoricalDtype) instead\n",
      "  if pd.api.types.is_categorical_dtype(vector):\n",
      "c:\\Users\\Rodolfo\\miniconda3\\Lib\\site-packages\\seaborn\\_oldcore.py:1498: FutureWarning: is_categorical_dtype is deprecated and will be removed in a future version. Use isinstance(dtype, CategoricalDtype) instead\n",
      "  if pd.api.types.is_categorical_dtype(vector):\n",
      "c:\\Users\\Rodolfo\\miniconda3\\Lib\\site-packages\\seaborn\\_oldcore.py:1498: FutureWarning: is_categorical_dtype is deprecated and will be removed in a future version. Use isinstance(dtype, CategoricalDtype) instead\n",
      "  if pd.api.types.is_categorical_dtype(vector):\n",
      "c:\\Users\\Rodolfo\\miniconda3\\Lib\\site-packages\\seaborn\\_oldcore.py:1498: FutureWarning: is_categorical_dtype is deprecated and will be removed in a future version. Use isinstance(dtype, CategoricalDtype) instead\n",
      "  if pd.api.types.is_categorical_dtype(vector):\n",
      "c:\\Users\\Rodolfo\\miniconda3\\Lib\\site-packages\\seaborn\\_oldcore.py:1119: FutureWarning: use_inf_as_na option is deprecated and will be removed in a future version. Convert inf values to NaN before operating instead.\n",
      "  with pd.option_context('mode.use_inf_as_na', True):\n",
      "c:\\Users\\Rodolfo\\miniconda3\\Lib\\site-packages\\seaborn\\_oldcore.py:1498: FutureWarning: is_categorical_dtype is deprecated and will be removed in a future version. Use isinstance(dtype, CategoricalDtype) instead\n",
      "  if pd.api.types.is_categorical_dtype(vector):\n",
      "c:\\Users\\Rodolfo\\miniconda3\\Lib\\site-packages\\seaborn\\_oldcore.py:1498: FutureWarning: is_categorical_dtype is deprecated and will be removed in a future version. Use isinstance(dtype, CategoricalDtype) instead\n",
      "  if pd.api.types.is_categorical_dtype(vector):\n",
      "c:\\Users\\Rodolfo\\miniconda3\\Lib\\site-packages\\seaborn\\_oldcore.py:1498: FutureWarning: is_categorical_dtype is deprecated and will be removed in a future version. Use isinstance(dtype, CategoricalDtype) instead\n",
      "  if pd.api.types.is_categorical_dtype(vector):\n",
      "c:\\Users\\Rodolfo\\miniconda3\\Lib\\site-packages\\seaborn\\_oldcore.py:1498: FutureWarning: is_categorical_dtype is deprecated and will be removed in a future version. Use isinstance(dtype, CategoricalDtype) instead\n",
      "  if pd.api.types.is_categorical_dtype(vector):\n",
      "c:\\Users\\Rodolfo\\miniconda3\\Lib\\site-packages\\seaborn\\_oldcore.py:1498: FutureWarning: is_categorical_dtype is deprecated and will be removed in a future version. Use isinstance(dtype, CategoricalDtype) instead\n",
      "  if pd.api.types.is_categorical_dtype(vector):\n",
      "c:\\Users\\Rodolfo\\miniconda3\\Lib\\site-packages\\seaborn\\_oldcore.py:1119: FutureWarning: use_inf_as_na option is deprecated and will be removed in a future version. Convert inf values to NaN before operating instead.\n",
      "  with pd.option_context('mode.use_inf_as_na', True):\n",
      "c:\\Users\\Rodolfo\\miniconda3\\Lib\\site-packages\\seaborn\\_oldcore.py:1498: FutureWarning: is_categorical_dtype is deprecated and will be removed in a future version. Use isinstance(dtype, CategoricalDtype) instead\n",
      "  if pd.api.types.is_categorical_dtype(vector):\n",
      "c:\\Users\\Rodolfo\\miniconda3\\Lib\\site-packages\\seaborn\\_oldcore.py:1498: FutureWarning: is_categorical_dtype is deprecated and will be removed in a future version. Use isinstance(dtype, CategoricalDtype) instead\n",
      "  if pd.api.types.is_categorical_dtype(vector):\n",
      "c:\\Users\\Rodolfo\\miniconda3\\Lib\\site-packages\\seaborn\\_oldcore.py:1498: FutureWarning: is_categorical_dtype is deprecated and will be removed in a future version. Use isinstance(dtype, CategoricalDtype) instead\n",
      "  if pd.api.types.is_categorical_dtype(vector):\n",
      "c:\\Users\\Rodolfo\\miniconda3\\Lib\\site-packages\\seaborn\\_oldcore.py:1498: FutureWarning: is_categorical_dtype is deprecated and will be removed in a future version. Use isinstance(dtype, CategoricalDtype) instead\n",
      "  if pd.api.types.is_categorical_dtype(vector):\n",
      "c:\\Users\\Rodolfo\\miniconda3\\Lib\\site-packages\\seaborn\\_oldcore.py:1498: FutureWarning: is_categorical_dtype is deprecated and will be removed in a future version. Use isinstance(dtype, CategoricalDtype) instead\n",
      "  if pd.api.types.is_categorical_dtype(vector):\n",
      "c:\\Users\\Rodolfo\\miniconda3\\Lib\\site-packages\\seaborn\\_oldcore.py:1119: FutureWarning: use_inf_as_na option is deprecated and will be removed in a future version. Convert inf values to NaN before operating instead.\n",
      "  with pd.option_context('mode.use_inf_as_na', True):\n"
     ]
    },
    {
     "data": {
      "text/plain": [
       "Text(0.5, 1.0, 'Log')"
      ]
     },
     "execution_count": 11,
     "metadata": {},
     "output_type": "execute_result"
    },
    {
     "data": {
      "image/png": "[encoded data removed]",
      "text/plain": [
       "<Figure size 640x480 with 3 Axes>"
      ]
     },
     "metadata": {},
     "output_type": "display_data"
    }
   ],
   "source": [
    "\n",
    "targetVarNorm = target_variable.values.reshape(-1, 1)\n",
    "\n",
    "min_max_scaler = preprocessing.MinMaxScaler()\n",
    "\n",
    "print(targetVarNorm)\n",
    "X_train_minmax = min_max_scaler.fit_transform(targetVarNorm)\n",
    "\n",
    "\n",
    "scaler = preprocessing.StandardScaler()\n",
    "zscores = scaler.fit_transform(targetVarNorm)\n",
    "\n",
    "logRatings = np.log(targetVarNorm)\n",
    "\n",
    "fig, axs = plt.subplots(ncols=3, sharey= True)\n",
    "\n",
    "sns.histplot(data = X_train_minmax,\n",
    "\n",
    "             alpha = 0.1,\n",
    "             kde = True,\n",
    "             bins=10,\n",
    "             stat='probability',\n",
    "             color = '#B76BCB',\n",
    "             kde_kws = dict(\n",
    "                 bw_adjust=9\n",
    "             ),\n",
    "             ax=axs[0]\n",
    ")\n",
    "axs[0].set_title('Max-Min')\n",
    "\n",
    "sns.histplot(data = zscores,\n",
    "             alpha = 0.1,\n",
    "             kde = True,\n",
    "             bins=10,\n",
    "             stat='probability',\n",
    "             color = '#B76BCB',\n",
    "             kde_kws = dict(\n",
    "                 bw_adjust=9\n",
    "             ),\n",
    "             ax=axs[1]\n",
    ")\n",
    "axs[1].set_title('Z-Scores')\n",
    "\n",
    "sns.histplot(data = logRatings,\n",
    "             \n",
    "\n",
    "             alpha = 0.1,\n",
    "             kde = True,\n",
    "             bins=10,\n",
    "             stat='probability',\n",
    "             color = '#B76BCB',\n",
    "             kde_kws = dict(\n",
    "                 bw_adjust=9\n",
    "             ),\n",
    "             ax=axs[2]\n",
    ")\n",
    "axs[2].set_title('Log')\n",
    "\n"
   ]
  },
  {
   "cell_type": "code",
   "execution_count": 12,
   "metadata": {},
   "outputs": [
    {
     "data": {
      "text/plain": [
       "array([2, 1, 5, 3, 4], dtype=int64)"
      ]
     },
     "execution_count": 12,
     "metadata": {},
     "output_type": "execute_result"
    }
   ],
   "source": [
    "target_variable.unique()"
   ]
  },
  {
   "cell_type": "code",
   "execution_count": 13,
   "metadata": {},
   "outputs": [
    {
     "data": {
      "text/plain": [
       "array([2, 1, 5, 3, 4], dtype=int64)"
      ]
     },
     "execution_count": 13,
     "metadata": {},
     "output_type": "execute_result"
    }
   ],
   "source": [
    "df['overall_rating'].unique()"
   ]
  },
  {
   "cell_type": "markdown",
   "metadata": {},
   "source": [
    "## Conclusión: \n",
    "El proceso de normalizacion no ha cambiado mucho la distribución pero en variables con un rango tan pequeño de valores discretos es de esperarse. "
   ]
  },
  {
   "cell_type": "code",
   "execution_count": null,
   "metadata": {},
   "outputs": [],
   "source": []
  },
  {
   "cell_type": "markdown",
   "metadata": {},
   "source": [
    "## Tratamiento de features\n",
    "\n",
    "\n",
    "A continuación haremos algunas transformaciones necesarias para seguir explorando el valor de la data.\n",
    "\n",
    "\n",
    "\n",
    "\n",
    "\n"
   ]
  },
  {
   "cell_type": "markdown",
   "metadata": {},
   "source": [
    "### 1.   Outlook, Recommend, CEO_Approv:\n",
    "Para poder realizar nuestro análisis supervisado, vamos a tener que convertir algunas de nuestras variables cualitativas que tienen carácter ordinal en variables númericas para su procesamiento. \n",
    "Las recomendaciones de la compañia , CEO , y futuro de la empresa le han colocado las categorías v, r, x, and o, con el siguiente significado:\n",
    "v - Positivo, r - Más o Menos, x - Negativo, o - Sin opinión\n",
    "\n",
    "A continuación exploraremos esas variables para entender su comportamiento:"
   ]
  },
  {
   "cell_type": "code",
   "execution_count": 14,
   "metadata": {},
   "outputs": [
    {
     "name": "stdout",
     "output_type": "stream",
     "text": [
      "recommend\n",
      "v    51.804633\n",
      "o    26.935406\n",
      "x    21.259961\n",
      "Name: count, dtype: float64 \n",
      "\n",
      " ceo_approv\n",
      "o    36.003618\n",
      "v    35.641504\n",
      "r    21.502301\n",
      "x     6.852577\n",
      "Name: count, dtype: float64 \n",
      "\n",
      " outlook\n",
      "v    37.307856\n",
      "o    34.057212\n",
      "r    18.090679\n",
      "x    10.544253\n",
      "Name: count, dtype: float64\n"
     ]
    }
   ],
   "source": [
    "df_ordinales = df[['recommend', 'ceo_approv', 'outlook']]\n",
    "print(\n",
    "    df_ordinales['recommend'].value_counts()/len(df_ordinales)*100, '\\n\\n',\n",
    "\n",
    "    df_ordinales['ceo_approv'].value_counts()/len(df_ordinales)*100, '\\n\\n',\n",
    "\n",
    "    df_ordinales['outlook'].value_counts()/len(df_ordinales)*100\n",
    "\n",
    ")"
   ]
  },
  {
   "cell_type": "code",
   "execution_count": 15,
   "metadata": {},
   "outputs": [
    {
     "name": "stdout",
     "output_type": "stream",
     "text": [
      "recommend\n",
      "ceo_approv\n",
      "outlook\n",
      "recommend\n",
      "5.0    51.804633\n",
      "1.0    21.259961\n",
      "Name: count, dtype: float64 \n",
      "\n",
      " ceo_approv\n",
      "5.0    35.641504\n",
      "2.0    21.502301\n",
      "1.0     6.852577\n",
      "Name: count, dtype: float64 \n",
      "\n",
      " outlook\n",
      "5.0    37.307856\n",
      "2.0    18.090679\n",
      "1.0    10.544253\n",
      "Name: count, dtype: float64\n"
     ]
    },
    {
     "name": "stderr",
     "output_type": "stream",
     "text": [
      "C:\\Users\\Rodolfo\\AppData\\Local\\Temp\\ipykernel_31140\\2688639698.py:10: SettingWithCopyWarning: \n",
      "A value is trying to be set on a copy of a slice from a DataFrame.\n",
      "Try using .loc[row_indexer,col_indexer] = value instead\n",
      "\n",
      "See the caveats in the documentation: https://pandas.pydata.org/pandas-docs/stable/user_guide/indexing.html#returning-a-view-versus-a-copy\n",
      "  df_ordinales[f'{col}']= df_ordinales[f'{col}'].map(dict_ordinal_cat)\n",
      "C:\\Users\\Rodolfo\\AppData\\Local\\Temp\\ipykernel_31140\\2688639698.py:10: SettingWithCopyWarning: \n",
      "A value is trying to be set on a copy of a slice from a DataFrame.\n",
      "Try using .loc[row_indexer,col_indexer] = value instead\n",
      "\n",
      "See the caveats in the documentation: https://pandas.pydata.org/pandas-docs/stable/user_guide/indexing.html#returning-a-view-versus-a-copy\n",
      "  df_ordinales[f'{col}']= df_ordinales[f'{col}'].map(dict_ordinal_cat)\n",
      "C:\\Users\\Rodolfo\\AppData\\Local\\Temp\\ipykernel_31140\\2688639698.py:10: SettingWithCopyWarning: \n",
      "A value is trying to be set on a copy of a slice from a DataFrame.\n",
      "Try using .loc[row_indexer,col_indexer] = value instead\n",
      "\n",
      "See the caveats in the documentation: https://pandas.pydata.org/pandas-docs/stable/user_guide/indexing.html#returning-a-view-versus-a-copy\n",
      "  df_ordinales[f'{col}']= df_ordinales[f'{col}'].map(dict_ordinal_cat)\n"
     ]
    }
   ],
   "source": [
    "import random\n",
    "\n",
    "#No estamos seguros de que significa cuando una persona dice Más o Menos, entonces generamos un numero al azar entre ambos extremos.\n",
    "#Otra solución posible sería hacer la escala del 1-3 para que no hay espacio para la interpretación.\n",
    "\n",
    "dict_ordinal_cat = {'v': 5, 'x': 1, 'r': random.randint(2,4), 'o': np.NaN }\n",
    "\n",
    "for col in df_ordinales.columns:\n",
    "    print(col)\n",
    "    df_ordinales[f'{col}']= df_ordinales[f'{col}'].map(dict_ordinal_cat)\n",
    "\n",
    "\n",
    "print(\n",
    "    df_ordinales['recommend'].value_counts()/len(df_ordinales)*100, '\\n\\n',\n",
    "\n",
    "    df_ordinales['ceo_approv'].value_counts()/len(df_ordinales)*100, '\\n\\n',\n",
    "\n",
    "    df_ordinales['outlook'].value_counts()/len(df_ordinales)*100\n",
    "\n",
    ")\n"
   ]
  },
  {
   "cell_type": "code",
   "execution_count": null,
   "metadata": {},
   "outputs": [],
   "source": []
  },
  {
   "cell_type": "code",
   "execution_count": null,
   "metadata": {},
   "outputs": [],
   "source": []
  },
  {
   "cell_type": "markdown",
   "metadata": {},
   "source": [
    "### 2. Pros, Cons, Headline:\n",
    "\n",
    " Estas variables son textos de carácter cualitativo, pero para explotar su valor en nuestro modelo necesitamos poder transformarlas en un valor númerico. Para se utilizará a continuación un framework de Sentiment Analysis que permite convertir textos y sacar un rango de -1 a 1, siendo -1 expresiones de mucha negatividad y 1 expresiones muy positivas.  "
   ]
  },
  {
   "cell_type": "code",
   "execution_count": 16,
   "metadata": {},
   "outputs": [
    {
     "name": "stdout",
     "output_type": "stream",
     "text": [
      "{'neg': 0.0, 'neu': 0.196, 'pos': 0.804, 'compound': 0.6249}\n"
     ]
    }
   ],
   "source": [
    "from vaderSentiment.vaderSentiment import SentimentIntensityAnalyzer\n",
    "\n",
    "analyzer = SentimentIntensityAnalyzer()\n",
    "\n",
    "\n",
    "\n",
    "sentiment_scores = df[['headline', 'cons', 'pros']].map(lambda x: analyzer.polarity_scores(str(x)), na_action='ignore')\n",
    "print(sentiment_scores['headline'][286369\t] )\n",
    "\n"
   ]
  },
  {
   "cell_type": "code",
   "execution_count": 17,
   "metadata": {},
   "outputs": [],
   "source": [
    "# sentiment_scores.rename( columns={'headline':'headline_num', 'cons':'cons_num', 'pros':'pros_num'})\n",
    "\n",
    "sentiment_scores = sentiment_scores.map(lambda x: x['compound'], na_action='ignore' )"
   ]
  },
  {
   "cell_type": "code",
   "execution_count": 18,
   "metadata": {},
   "outputs": [],
   "source": [
    "df = df.join(sentiment_scores ,rsuffix='_num')"
   ]
  },
  {
   "cell_type": "code",
   "execution_count": null,
   "metadata": {},
   "outputs": [],
   "source": []
  },
  {
   "cell_type": "markdown",
   "metadata": {},
   "source": [
    "### 3. Compañias y Cargos:\n",
    "\n",
    "Estas variables no son transformables pero son las vairables cualitativas nominales que son muy interesantes para contextualizar los resultado de nuestro analisís."
   ]
  },
  {
   "cell_type": "code",
   "execution_count": 19,
   "metadata": {},
   "outputs": [
    {
     "name": "stdout",
     "output_type": "stream",
     "text": [
      "job_title\n",
      "Anonymous Employee              19.260827\n",
      "Consultant                       2.785518\n",
      "Manager                          2.343090\n",
      "Senior Consultant                2.206206\n",
      "Analyst                          2.006467\n",
      "                                  ...    \n",
      "CHANGE ASSURANCE                 0.000349\n",
      "OTC Clearing/Prime Brokerage     0.000349\n",
      "RISK & CONTROL ANALYST           0.000349\n",
      "Unspecified                      0.000349\n",
      "Ad Sense Sales Manager           0.000349\n",
      "Name: count, Length: 26786, dtype: float64\n"
     ]
    }
   ],
   "source": [
    "\n",
    "\n",
    "firms = df[['firm', 'job_title']]\n",
    "firms.describe()\n",
    "print((firms['job_title'].value_counts())/df.shape[0]*100)"
   ]
  },
  {
   "cell_type": "code",
   "execution_count": null,
   "metadata": {},
   "outputs": [],
   "source": []
  },
  {
   "cell_type": "markdown",
   "metadata": {},
   "source": [
    "\n",
    "\n",
    "> Podemos observar que un 19% de los reviews son anónimos y un 9.5% están vacios. En este caso es válido simplemente agregarlos a la categoría de anónimo que básicamente corresponde con la misma clasificación. Dejando los anónimos  como un 31% apróximadamente. Por la naturaleza de los reviews de Glassdoor tiene sentido que haya muchas reviews que se nieguen a poner el rol y la empresa.       \n"
   ]
  },
  {
   "cell_type": "code",
   "execution_count": 20,
   "metadata": {},
   "outputs": [
    {
     "name": "stdout",
     "output_type": "stream",
     "text": [
      "firm\n",
      "Deloitte                                              16.410358\n",
      "EY                                                    11.890046\n",
      "Apple                                                  7.262182\n",
      "Citi                                                   6.539001\n",
      "Barclays                                               3.390671\n",
      "                                                        ...    \n",
      "Animal-and-Plant-Health-Agency                         0.007682\n",
      "BayWa-r-e-renewable-energy                             0.006285\n",
      "Engineering-and-Physical-Sciences-Research-Council     0.005936\n",
      "Abertawe-Bro-Morgannwg-University-Health-Board         0.003143\n",
      "Achieving-for-Children                                 0.002095\n",
      "Name: count, Length: 149, dtype: float64\n"
     ]
    },
    {
     "data": {
      "text/plain": [
       "firm\n",
       "Deloitte                                              16.410358\n",
       "EY                                                    11.890046\n",
       "Apple                                                  7.262182\n",
       "Citi                                                   6.539001\n",
       "Barclays                                               3.390671\n",
       "                                                        ...    \n",
       "Animal-and-Plant-Health-Agency                         0.007682\n",
       "BayWa-r-e-renewable-energy                             0.006285\n",
       "Engineering-and-Physical-Sciences-Research-Council     0.005936\n",
       "Abertawe-Bro-Morgannwg-University-Health-Board         0.003143\n",
       "Achieving-for-Children                                 0.002095\n",
       "Name: count, Length: 149, dtype: float64"
      ]
     },
     "execution_count": 20,
     "metadata": {},
     "output_type": "execute_result"
    }
   ],
   "source": [
    "print((firms['firm'].value_counts())/df.shape[0]*100)\n",
    "\n",
    "(firms['firm'].value_counts()/df.shape[0]*100)"
   ]
  },
  {
   "cell_type": "markdown",
   "metadata": {},
   "source": [
    ">De la misma forma podemos observar que hay una representación muy grande en la muestra de pocas empresas, siendo estas Delloite (16.4%), Ernest & Young (12%), Apple (7%), Citi Bank (6,5%) y la entidad financiera Barclay's (3.39%). Con casi el 40% de los reviews. Sería interesante estudiar el dataset filtrando estas empresas a ver que tan distinto llegan a ser los resultados.\n"
   ]
  },
  {
   "cell_type": "code",
   "execution_count": 21,
   "metadata": {},
   "outputs": [
    {
     "data": {
      "text/plain": [
       "array(['AFH-Wealth-Management', 'AJ-Bell', 'ALDI', 'AQA', 'ASDA', 'ASOS',\n",
       "       'AXA-UK', 'Abcam',\n",
       "       'Abertawe-Bro-Morgannwg-University-Health-Board', 'Accenture',\n",
       "       'Accor', 'Achieving-for-Children', 'ActionCOACH',\n",
       "       'Active-Care-Group', 'Adecco', 'Age-UK-The-National-Charity',\n",
       "       'AlixPartners', 'American-Express', 'Amey', 'Angard-Staffing',\n",
       "       'Anglian-Water', 'Anglo-American',\n",
       "       'Animal-and-Plant-Health-Agency', 'Aon', 'Apple', 'Arcadia',\n",
       "       'Arnold-Clark', 'AstraZeneca', 'Aviva', 'B-and-M-Retail',\n",
       "       'B-and-Q', 'BAT', 'BBC', 'BDO', 'BHS', 'BIS', 'BNP-Paribas',\n",
       "       'BNY-Mellon', 'BP', 'BPP-Holdings', 'BT',\n",
       "       'Babcock-International-Group', 'Babylon-Health',\n",
       "       'Bain-and-Company', 'Balfour-Beatty', 'Bannatyne-Group',\n",
       "       'Barchester-Healthcare', 'Barclays', 'Barnardo-s',\n",
       "       'Barnet-and-Chase-Farm-Hospitals-NHS-Trust', 'Barnett-Waddingham',\n",
       "       'Barratt-Developments', 'Barts-Health-NHS-Trust',\n",
       "       'BayWa-r-e-renewable-energy', 'Bayer', 'Best-Western',\n",
       "       'Betsi-Cadwaladr-University-Health-Board',\n",
       "       'Bill-and-Melinda-Gates-Foundation', 'Birkbeck-College',\n",
       "       'Birmingham-City-University', 'Bloomberg-L-P', 'Blue-Arrow',\n",
       "       'Blue-Yonder', 'Booking-com', 'Boots', 'Boots-Opticians',\n",
       "       'Boston-Consulting-Group', 'Brewin-Dolphin', 'British-Airways',\n",
       "       'British-Red-Cross', 'Brook-Street', 'Bullhorn', 'Bupa',\n",
       "       'Burberry', 'CBRE', 'CVS-Group', 'Cambridge-Assessment', 'Capita',\n",
       "       'Capital-Group', 'CarShop-UK', 'Cardiff-University', 'Care-UK',\n",
       "       'Career-Legal', 'Christie-s', 'Cisco-Systems', 'Citi',\n",
       "       'Citizens-Advice', 'CityFibre', 'Civil-Service-United-Kingdom',\n",
       "       'Co-op', 'Colosseum-Dental', 'Colt-Technology-Services',\n",
       "       'Communities-and-Local-Government', 'Companies-House',\n",
       "       'Compass-Group', 'Cougar-Mountain', 'Countrywide-plc',\n",
       "       'Covea-Insurance', 'Coventry-University', 'Creative-Support',\n",
       "       'Cromwell-Tools', 'Crown-Prosecution-Service',\n",
       "       'Crowne-Plaza-Hotels-and-Resorts', 'Curtis-Banks',\n",
       "       'Cushman-and-Wakefield', 'Cygnet-Health-Care', 'DFID',\n",
       "       'DFS-Furniture', 'DHL-Supply-Chain', 'DPDgroup', 'DWF',\n",
       "       'Dalata-Hotel-Group', 'David-Lloyd-Leisure', 'Debenhams',\n",
       "       'Deloitte', 'Department-for-Work-And-Pensions',\n",
       "       'Department-of-Health-UK', 'Deutsche-Bank', 'Diageo', 'Diligenta',\n",
       "       'Dixons-Carphone', 'Doubletree-By-Hilton', 'Durham-County-Council',\n",
       "       'Dynatrace', 'EBRD', 'ENABLE-Scotland', 'ENGIE', 'EY',\n",
       "       'East-Sussex-County-Council', 'Egon-Zehnder',\n",
       "       'Engineering-and-Physical-Sciences-Research-Council', 'Equiniti',\n",
       "       'Eversheds-Sutherland', 'Everyone-Active', 'FARFETCH', 'FYXER',\n",
       "       'Facebook', 'FirstPort', 'Foreign-and-Commonwealth-Office',\n",
       "       'Four-Seasons-Health-Care', 'Foxtons',\n",
       "       'Freshfields-Bruckhaus-Deringer', 'GLL',\n",
       "       'GTR-Govia-Thameslink-Railway', 'Gateley', 'Gi-Group',\n",
       "       'GlaxoSmithKline', 'Goldman-Sachs', 'Google'], dtype=object)"
      ]
     },
     "execution_count": 21,
     "metadata": {},
     "output_type": "execute_result"
    }
   ],
   "source": [
    "firms['firm'].unique()"
   ]
  },
  {
   "cell_type": "markdown",
   "metadata": {},
   "source": [
    "### 3. Industria\n",
    "\n",
    "Esta variable fue generada manualmente, con información de LinkedIn sobre las compañias o sus páginas web. El número de categorías fue reducido en la medida de lo posible. Hay varias empresas cuyo sector era demasido nicho, como por ejemplo Christies que es la compañia más grande de objetos y arte de lujo en el mundo (junto a Sotheby's), que se colocó en una categoría llamada \"Otro\" para destilar un poco información. Del mismo modo hay compañias de desarrollo de software, SaS Y desarrollo de tecnología  que se juntaron en la categoría de IT. El objetivo es que las categorías tengan mamyor poder explicativo:"
   ]
  },
  {
   "cell_type": "code",
   "execution_count": 22,
   "metadata": {},
   "outputs": [
    {
     "data": {
      "text/html": [
       "<div>\n",
       "<style scoped>\n",
       "    .dataframe tbody tr th:only-of-type {\n",
       "        vertical-align: middle;\n",
       "    }\n",
       "\n",
       "    .dataframe tbody tr th {\n",
       "        vertical-align: top;\n",
       "    }\n",
       "\n",
       "    .dataframe thead th {\n",
       "        text-align: right;\n",
       "    }\n",
       "</style>\n",
       "<table border=\"1\" class=\"dataframe\">\n",
       "  <thead>\n",
       "    <tr style=\"text-align: right;\">\n",
       "      <th></th>\n",
       "      <th>firm</th>\n",
       "      <th>industry</th>\n",
       "      <th>Unnamed: 2</th>\n",
       "      <th>Unnamed: 3</th>\n",
       "      <th>Unnamed: 4</th>\n",
       "      <th>Unnamed: 5</th>\n",
       "      <th>Unnamed: 6</th>\n",
       "      <th>Unnamed: 7</th>\n",
       "      <th>Unnamed: 8</th>\n",
       "    </tr>\n",
       "  </thead>\n",
       "  <tbody>\n",
       "    <tr>\n",
       "      <th>0</th>\n",
       "      <td>Abcam</td>\n",
       "      <td>Healthcare</td>\n",
       "      <td>NaN</td>\n",
       "      <td>NaN</td>\n",
       "      <td>NaN</td>\n",
       "      <td>NaN</td>\n",
       "      <td>NaN</td>\n",
       "      <td>NaN</td>\n",
       "      <td>NaN</td>\n",
       "    </tr>\n",
       "    <tr>\n",
       "      <th>1</th>\n",
       "      <td>Abertawe-Bro-Morgannwg-University-Health-Board</td>\n",
       "      <td>Healthcare</td>\n",
       "      <td>NaN</td>\n",
       "      <td>NaN</td>\n",
       "      <td>NaN</td>\n",
       "      <td>NaN</td>\n",
       "      <td>NaN</td>\n",
       "      <td>NaN</td>\n",
       "      <td>NaN</td>\n",
       "    </tr>\n",
       "    <tr>\n",
       "      <th>2</th>\n",
       "      <td>Accenture</td>\n",
       "      <td>Consulting</td>\n",
       "      <td>NaN</td>\n",
       "      <td>NaN</td>\n",
       "      <td>NaN</td>\n",
       "      <td>NaN</td>\n",
       "      <td>NaN</td>\n",
       "      <td>NaN</td>\n",
       "      <td>NaN</td>\n",
       "    </tr>\n",
       "    <tr>\n",
       "      <th>3</th>\n",
       "      <td>Accor</td>\n",
       "      <td>Hospitality</td>\n",
       "      <td>NaN</td>\n",
       "      <td>NaN</td>\n",
       "      <td>NaN</td>\n",
       "      <td>NaN</td>\n",
       "      <td>NaN</td>\n",
       "      <td>NaN</td>\n",
       "      <td>NaN</td>\n",
       "    </tr>\n",
       "    <tr>\n",
       "      <th>4</th>\n",
       "      <td>Achieving-for-Children</td>\n",
       "      <td>Other</td>\n",
       "      <td>NaN</td>\n",
       "      <td>NaN</td>\n",
       "      <td>NaN</td>\n",
       "      <td>NaN</td>\n",
       "      <td>NaN</td>\n",
       "      <td>NaN</td>\n",
       "      <td>NaN</td>\n",
       "    </tr>\n",
       "    <tr>\n",
       "      <th>...</th>\n",
       "      <td>...</td>\n",
       "      <td>...</td>\n",
       "      <td>...</td>\n",
       "      <td>...</td>\n",
       "      <td>...</td>\n",
       "      <td>...</td>\n",
       "      <td>...</td>\n",
       "      <td>...</td>\n",
       "      <td>...</td>\n",
       "    </tr>\n",
       "    <tr>\n",
       "      <th>144</th>\n",
       "      <td>GlaxoSmithKline</td>\n",
       "      <td>Pharmaceutical</td>\n",
       "      <td>NaN</td>\n",
       "      <td>NaN</td>\n",
       "      <td>NaN</td>\n",
       "      <td>NaN</td>\n",
       "      <td>NaN</td>\n",
       "      <td>NaN</td>\n",
       "      <td>NaN</td>\n",
       "    </tr>\n",
       "    <tr>\n",
       "      <th>145</th>\n",
       "      <td>GLL</td>\n",
       "      <td>Pharmaceutical</td>\n",
       "      <td>NaN</td>\n",
       "      <td>NaN</td>\n",
       "      <td>NaN</td>\n",
       "      <td>NaN</td>\n",
       "      <td>NaN</td>\n",
       "      <td>NaN</td>\n",
       "      <td>NaN</td>\n",
       "    </tr>\n",
       "    <tr>\n",
       "      <th>146</th>\n",
       "      <td>Goldman-Sachs</td>\n",
       "      <td>Finance</td>\n",
       "      <td>NaN</td>\n",
       "      <td>NaN</td>\n",
       "      <td>NaN</td>\n",
       "      <td>NaN</td>\n",
       "      <td>NaN</td>\n",
       "      <td>NaN</td>\n",
       "      <td>NaN</td>\n",
       "    </tr>\n",
       "    <tr>\n",
       "      <th>147</th>\n",
       "      <td>Google</td>\n",
       "      <td>IT</td>\n",
       "      <td>NaN</td>\n",
       "      <td>NaN</td>\n",
       "      <td>NaN</td>\n",
       "      <td>NaN</td>\n",
       "      <td>NaN</td>\n",
       "      <td>NaN</td>\n",
       "      <td>NaN</td>\n",
       "    </tr>\n",
       "    <tr>\n",
       "      <th>148</th>\n",
       "      <td>GTR-Govia-Thameslink-Railway</td>\n",
       "      <td>Engineering</td>\n",
       "      <td>NaN</td>\n",
       "      <td>NaN</td>\n",
       "      <td>NaN</td>\n",
       "      <td></td>\n",
       "      <td>NaN</td>\n",
       "      <td>NaN</td>\n",
       "      <td>NaN</td>\n",
       "    </tr>\n",
       "  </tbody>\n",
       "</table>\n",
       "<p>149 rows × 9 columns</p>\n",
       "</div>"
      ],
      "text/plain": [
       "                                               firm        industry  \\\n",
       "0                                             Abcam      Healthcare   \n",
       "1    Abertawe-Bro-Morgannwg-University-Health-Board      Healthcare   \n",
       "2                                         Accenture      Consulting   \n",
       "3                                             Accor     Hospitality   \n",
       "4                            Achieving-for-Children           Other   \n",
       "..                                              ...             ...   \n",
       "144                                 GlaxoSmithKline  Pharmaceutical   \n",
       "145                                             GLL  Pharmaceutical   \n",
       "146                                   Goldman-Sachs         Finance   \n",
       "147                                          Google              IT   \n",
       "148                    GTR-Govia-Thameslink-Railway     Engineering   \n",
       "\n",
       "     Unnamed: 2  Unnamed: 3  Unnamed: 4 Unnamed: 5  Unnamed: 6  Unnamed: 7  \\\n",
       "0           NaN         NaN         NaN        NaN         NaN         NaN   \n",
       "1           NaN         NaN         NaN        NaN         NaN         NaN   \n",
       "2           NaN         NaN         NaN        NaN         NaN         NaN   \n",
       "3           NaN         NaN         NaN        NaN         NaN         NaN   \n",
       "4           NaN         NaN         NaN        NaN         NaN         NaN   \n",
       "..          ...         ...         ...        ...         ...         ...   \n",
       "144         NaN         NaN         NaN        NaN         NaN         NaN   \n",
       "145         NaN         NaN         NaN        NaN         NaN         NaN   \n",
       "146         NaN         NaN         NaN        NaN         NaN         NaN   \n",
       "147         NaN         NaN         NaN        NaN         NaN         NaN   \n",
       "148         NaN         NaN         NaN                    NaN         NaN   \n",
       "\n",
       "     Unnamed: 8  \n",
       "0           NaN  \n",
       "1           NaN  \n",
       "2           NaN  \n",
       "3           NaN  \n",
       "4           NaN  \n",
       "..          ...  \n",
       "144         NaN  \n",
       "145         NaN  \n",
       "146         NaN  \n",
       "147         NaN  \n",
       "148         NaN  \n",
       "\n",
       "[149 rows x 9 columns]"
      ]
     },
     "execution_count": 22,
     "metadata": {},
     "output_type": "execute_result"
    }
   ],
   "source": [
    "industries['firm'] = industries['firm'].str.replace(\"'\",\"\",)\n",
    "industries"
   ]
  },
  {
   "cell_type": "code",
   "execution_count": 23,
   "metadata": {},
   "outputs": [
    {
     "name": "stdout",
     "output_type": "stream",
     "text": [
      "                      firm        industry      mean  count\n",
      "0    AFH-Wealth-Management         Finance  2.904762     63\n",
      "1                  AJ-Bell         Finance  3.359649    114\n",
      "2                     ALDI          Retail  3.422127    931\n",
      "3                      AQA       Education  3.622807    114\n",
      "4                     ASDA          Retail  3.352521   4760\n",
      "..                     ...             ...       ...    ...\n",
      "144                Gateley  Legal Services  4.540984     61\n",
      "145               Gi-Group      Consulting  3.392857    196\n",
      "146        GlaxoSmithKline  Pharmaceutical  3.698016   5646\n",
      "147          Goldman-Sachs         Finance  3.846730   8808\n",
      "148                 Google              IT  4.036290    248\n",
      "\n",
      "[149 rows x 4 columns]\n"
     ]
    },
    {
     "data": {
      "application/vnd.plotly.v1+json": {
       "config": {
        "plotlyServerURL": "https://plot.ly"
       },
       "data": [
        {
         "hovertemplate": "<b>%{hovertext}</b><br><br>industry=Finance<br>overall rating=%{marker.size}<br>number of reviews=%{y}<extra></extra>",
         "hovertext": [
          "AFH-Wealth-Management",
          "AJ-Bell",
          "AXA-UK",
          "AlixPartners",
          "American-Express",
          "Aon",
          "Aviva",
          "BNP-Paribas",
          "BNY-Mellon",
          "Barclays",
          "Barnett-Waddingham",
          "Bloomberg-L-P",
          "Blue-Arrow",
          "Blue-Yonder",
          "Brewin-Dolphin",
          "Bupa",
          "Capita",
          "Capital-Group",
          "Citi",
          "Covea-Insurance",
          "Curtis-Banks",
          "Deutsche-Bank",
          "Diligenta",
          "EBRD",
          "Equiniti",
          "Goldman-Sachs"
         ],
         "legendgroup": "Finance",
         "marker": {
          "color": "#636efa",
          "size": [
           2.9047619047619047,
           3.3596491228070176,
           4.015503875968992,
           4.211538461538462,
           3.85977109851321,
           3.4754716981132074,
           3.464494569757728,
           3.508650519031142,
           3.119607843137255,
           3.5840370751802264,
           4.271428571428571,
           3.6044606281292673,
           3.580508474576271,
           3.780138077535847,
           3.752,
           3.3552123552123554,
           2.8798479087452473,
           3.654212454212454,
           3.4790131368151234,
           4.219178082191781,
           2.425925925925926,
           3.455854727614277,
           2.3636363636363638,
           3.3961661341853033,
           3.03125,
           3.8467302452316074
          ],
          "sizemode": "area",
          "sizeref": 0.011627906976744186,
          "symbol": "circle"
         },
         "mode": "markers",
         "name": "Finance",
         "orientation": "v",
         "showlegend": true,
         "type": "scatter",
         "x": [
          2.9047619047619047,
          3.3596491228070176,
          4.015503875968992,
          4.211538461538462,
          3.85977109851321,
          3.4754716981132074,
          3.464494569757728,
          3.508650519031142,
          3.119607843137255,
          3.5840370751802264,
          4.271428571428571,
          3.6044606281292673,
          3.580508474576271,
          3.780138077535847,
          3.752,
          3.3552123552123554,
          2.8798479087452473,
          3.654212454212454,
          3.4790131368151234,
          4.219178082191781,
          2.425925925925926,
          3.455854727614277,
          2.3636363636363638,
          3.3961661341853033,
          3.03125,
          3.8467302452316074
         ],
         "xaxis": "x",
         "y": [
          63,
          114,
          258,
          52,
          9349,
          3975,
          1197,
          3757,
          6630,
          9710,
          70,
          4394,
          236,
          1883,
          125,
          518,
          3945,
          1365,
          18726,
          73,
          54,
          6388,
          165,
          313,
          256,
          8808
         ],
         "yaxis": "y"
        },
        {
         "hovertemplate": "<b>%{hovertext}</b><br><br>industry=Retail<br>overall rating=%{marker.size}<br>number of reviews=%{y}<extra></extra>",
         "hovertext": [
          "ALDI",
          "ASDA",
          "ASOS",
          "Arcadia",
          "Arnold-Clark",
          "B-and-M-Retail",
          "B-and-Q",
          "Boots",
          "Burberry",
          "CarShop-UK",
          "Co-op",
          "DFS-Furniture",
          "Debenhams",
          "Dixons-Carphone"
         ],
         "legendgroup": "Retail",
         "marker": {
          "color": "#EF553B",
          "size": [
           3.422126745435016,
           3.3525210084033614,
           3.2472283813747227,
           3.0030165912518854,
           3.401174168297456,
           3.513719512195122,
           3.3197231833910035,
           3.4499723604201216,
           3.4630454140694567,
           4.651162790697675,
           3.4682808716707023,
           3.3642384105960264,
           3.0816890292028414,
           3.0834752981260647
          ],
          "sizemode": "area",
          "sizeref": 0.011627906976744186,
          "symbol": "circle"
         },
         "mode": "markers",
         "name": "Retail",
         "orientation": "v",
         "showlegend": true,
         "type": "scatter",
         "x": [
          3.422126745435016,
          3.3525210084033614,
          3.2472283813747227,
          3.0030165912518854,
          3.401174168297456,
          3.513719512195122,
          3.3197231833910035,
          3.4499723604201216,
          3.4630454140694567,
          4.651162790697675,
          3.4682808716707023,
          3.3642384105960264,
          3.0816890292028414,
          3.0834752981260647
         ],
         "xaxis": "x",
         "y": [
          931,
          4760,
          902,
          663,
          511,
          1312,
          1445,
          3618,
          1123,
          258,
          2065,
          151,
          2534,
          2935
         ],
         "yaxis": "y"
        },
        {
         "hovertemplate": "<b>%{hovertext}</b><br><br>industry=Education<br>overall rating=%{marker.size}<br>number of reviews=%{y}<extra></extra>",
         "hovertext": [
          "AQA",
          "BPP-Holdings",
          "Birkbeck-College",
          "Birmingham-City-University",
          "Cambridge-Assessment",
          "Cardiff-University",
          "Coventry-University"
         ],
         "legendgroup": "Education",
         "marker": {
          "color": "#00cc96",
          "size": [
           3.6228070175438596,
           3.3598326359832638,
           3.839080459770115,
           3.764705882352941,
           3.5081967213114753,
           3.973684210526316,
           3.5692307692307694
          ],
          "sizemode": "area",
          "sizeref": 0.011627906976744186,
          "symbol": "circle"
         },
         "mode": "markers",
         "name": "Education",
         "orientation": "v",
         "showlegend": true,
         "type": "scatter",
         "x": [
          3.6228070175438596,
          3.3598326359832638,
          3.839080459770115,
          3.764705882352941,
          3.5081967213114753,
          3.973684210526316,
          3.5692307692307694
         ],
         "xaxis": "x",
         "y": [
          114,
          239,
          87,
          119,
          183,
          304,
          325
         ],
         "yaxis": "y"
        },
        {
         "hovertemplate": "<b>%{hovertext}</b><br><br>industry=Healthcare<br>overall rating=%{marker.size}<br>number of reviews=%{y}<extra></extra>",
         "hovertext": [
          "Abcam",
          "Abertawe-Bro-Morgannwg-University-Health-Board",
          "Babylon-Health",
          "Barchester-Healthcare",
          "Barnet-and-Chase-Farm-Hospitals-NHS-Trust",
          "Barts-Health-NHS-Trust",
          "Betsi-Cadwaladr-University-Health-Board",
          "Boots-Opticians",
          "British-Red-Cross",
          "Care-UK",
          "Colosseum-Dental",
          "Cygnet-Health-Care",
          "Department-of-Health-UK",
          "Four-Seasons-Health-Care"
         ],
         "legendgroup": "Healthcare",
         "marker": {
          "color": "#ab63fa",
          "size": [
           4.406896551724138,
           3.3333333333333335,
           3.044811320754717,
           2.8792134831460676,
           3.7857142857142856,
           3.503067484662577,
           3,
           2.9851190476190474,
           3.3992805755395685,
           3.2270742358078603,
           2.9166666666666665,
           3.207865168539326,
           3.3692307692307693,
           2.9603658536585367
          ],
          "sizemode": "area",
          "sizeref": 0.011627906976744186,
          "symbol": "circle"
         },
         "mode": "markers",
         "name": "Healthcare",
         "orientation": "v",
         "showlegend": true,
         "type": "scatter",
         "x": [
          4.406896551724138,
          3.3333333333333335,
          3.044811320754717,
          2.8792134831460676,
          3.7857142857142856,
          3.503067484662577,
          3,
          2.9851190476190474,
          3.3992805755395685,
          3.2270742358078603,
          2.9166666666666665,
          3.207865168539326,
          3.3692307692307693,
          2.9603658536585367
         ],
         "xaxis": "x",
         "y": [
          145,
          9,
          424,
          356,
          28,
          163,
          42,
          336,
          278,
          229,
          36,
          178,
          65,
          328
         ],
         "yaxis": "y"
        },
        {
         "hovertemplate": "<b>%{hovertext}</b><br><br>industry=Consulting<br>overall rating=%{marker.size}<br>number of reviews=%{y}<extra></extra>",
         "hovertext": [
          "Accenture",
          "Adecco",
          "Angard-Staffing",
          "BDO",
          "BHS",
          "Bain-and-Company",
          "Boston-Consulting-Group",
          "Brook-Street",
          "Career-Legal",
          "Cougar-Mountain",
          "Deloitte",
          "EY",
          "Egon-Zehnder",
          "FYXER",
          "Gi-Group"
         ],
         "legendgroup": "Consulting",
         "marker": {
          "color": "#FFA15A",
          "size": [
           3.7346938775510203,
           3.2336289222373806,
           2.7889908256880735,
           3.4153592072667216,
           3.3448275862068964,
           4.559757107369583,
           4.301788805539527,
           3.140969162995595,
           3.611111111111111,
           3.3292682926829267,
           3.7799553143951483,
           3.7357415565345082,
           3.269230769230769,
           3.5,
           3.392857142857143
          ],
          "sizemode": "area",
          "sizeref": 0.011627906976744186,
          "symbol": "circle"
         },
         "mode": "markers",
         "name": "Consulting",
         "orientation": "v",
         "showlegend": true,
         "type": "scatter",
         "x": [
          3.7346938775510203,
          3.2336289222373806,
          2.7889908256880735,
          3.4153592072667216,
          3.3448275862068964,
          4.559757107369583,
          4.301788805539527,
          3.140969162995595,
          3.611111111111111,
          3.3292682926829267,
          3.7799553143951483,
          3.7357415565345082,
          3.269230769230769,
          3.5,
          3.392857142857143
         ],
         "xaxis": "x",
         "y": [
          2156,
          2932,
          109,
          2422,
          261,
          3623,
          3466,
          227,
          54,
          82,
          46995,
          34050,
          312,
          42,
          196
         ],
         "yaxis": "y"
        },
        {
         "hovertemplate": "<b>%{hovertext}</b><br><br>industry=Hospitality<br>overall rating=%{marker.size}<br>number of reviews=%{y}<extra></extra>",
         "hovertext": [
          "Accor",
          "Bannatyne-Group",
          "Best-Western",
          "Crowne-Plaza-Hotels-and-Resorts",
          "Dalata-Hotel-Group",
          "David-Lloyd-Leisure",
          "Doubletree-By-Hilton"
         ],
         "legendgroup": "Hospitality",
         "marker": {
          "color": "#19d3f3",
          "size": [
           3.7610921501706485,
           3.5513307984790874,
           3.2643492320129344,
           3.4378029079159935,
           3.6979166666666665,
           3.0725274725274727,
           3.4555555555555557
          ],
          "sizemode": "area",
          "sizeref": 0.011627906976744186,
          "symbol": "circle"
         },
         "mode": "markers",
         "name": "Hospitality",
         "orientation": "v",
         "showlegend": true,
         "type": "scatter",
         "x": [
          3.7610921501706485,
          3.5513307984790874,
          3.2643492320129344,
          3.4378029079159935,
          3.6979166666666665,
          3.0725274725274727,
          3.4555555555555557
         ],
         "xaxis": "x",
         "y": [
          879,
          263,
          1237,
          619,
          96,
          455,
          1170
         ],
         "yaxis": "y"
        },
        {
         "hovertemplate": "<b>%{hovertext}</b><br><br>industry=Other<br>overall rating=%{marker.size}<br>number of reviews=%{y}<extra></extra>",
         "hovertext": [
          "Achieving-for-Children",
          "BBC",
          "Barnardo-s",
          "Bill-and-Melinda-Gates-Foundation",
          "Christie-s",
          "Citizens-Advice",
          "Compass-Group",
          "Creative-Support",
          "Diageo",
          "ENABLE-Scotland"
         ],
         "legendgroup": "Other",
         "marker": {
          "color": "#FF6692",
          "size": [
           4.333333333333333,
           3.834142956280361,
           3.0469208211143695,
           3.3794642857142856,
           3.4318706697459582,
           4.034810126582278,
           3.283179012345679,
           2.2577777777777777,
           3.774267662263067,
           2.761904761904762
          ],
          "sizemode": "area",
          "sizeref": 0.011627906976744186,
          "symbol": "circle"
         },
         "mode": "markers",
         "name": "Other",
         "orientation": "v",
         "showlegend": true,
         "type": "scatter",
         "x": [
          4.333333333333333,
          3.834142956280361,
          3.0469208211143695,
          3.3794642857142856,
          3.4318706697459582,
          4.034810126582278,
          3.283179012345679,
          2.2577777777777777,
          3.774267662263067,
          2.761904761904762
         ],
         "xaxis": "x",
         "y": [
          6,
          1441,
          341,
          224,
          433,
          316,
          2592,
          225,
          1741,
          42
         ],
         "yaxis": "y"
        },
        {
         "hovertemplate": "<b>%{hovertext}</b><br><br>industry=Senior Care<br>overall rating=%{marker.size}<br>number of reviews=%{y}<extra></extra>",
         "hovertext": [
          "ActionCOACH",
          "Active-Care-Group",
          "Age-UK-The-National-Charity",
          "Everyone-Active"
         ],
         "legendgroup": "Senior Care",
         "marker": {
          "color": "#B6E880",
          "size": [
           4.283333333333333,
           3.3125,
           3.874285714285714,
           3.3197969543147208
          ],
          "sizemode": "area",
          "sizeref": 0.011627906976744186,
          "symbol": "circle"
         },
         "mode": "markers",
         "name": "Senior Care",
         "orientation": "v",
         "showlegend": true,
         "type": "scatter",
         "x": [
          4.283333333333333,
          3.3125,
          3.874285714285714,
          3.3197969543147208
         ],
         "xaxis": "x",
         "y": [
          60,
          64,
          175,
          197
         ],
         "yaxis": "y"
        },
        {
         "hovertemplate": "<b>%{hovertext}</b><br><br>industry=Engineering<br>overall rating=%{marker.size}<br>number of reviews=%{y}<extra></extra>",
         "hovertext": [
          "Amey",
          "Babcock-International-Group",
          "Balfour-Beatty",
          "Barratt-Developments",
          "Cromwell-Tools",
          "GTR-Govia-Thameslink-Railway"
         ],
         "legendgroup": "Engineering",
         "marker": {
          "color": "#FF97FF",
          "size": [
           3.2559139784946236,
           3.2088091353996737,
           3.4309210526315788,
           3.990740740740741,
           3.435,
           3.5545454545454547
          ],
          "sizemode": "area",
          "sizeref": 0.011627906976744186,
          "symbol": "circle"
         },
         "mode": "markers",
         "name": "Engineering",
         "orientation": "v",
         "showlegend": true,
         "type": "scatter",
         "x": [
          3.2559139784946236,
          3.2088091353996737,
          3.4309210526315788,
          3.990740740740741,
          3.435,
          3.5545454545454547
         ],
         "xaxis": "x",
         "y": [
          465,
          613,
          912,
          108,
          200,
          110
         ],
         "yaxis": "y"
        },
        {
         "hovertemplate": "<b>%{hovertext}</b><br><br>industry=Energy/Utillities<br>overall rating=%{marker.size}<br>number of reviews=%{y}<extra></extra>",
         "hovertext": [
          "Anglian-Water",
          "Anglo-American",
          "BP",
          "BayWa-r-e-renewable-energy",
          "ENGIE"
         ],
         "legendgroup": "Energy/Utillities",
         "marker": {
          "color": "#FECB52",
          "size": [
           4.468634686346864,
           3.9776951672862455,
           3.6695402298850577,
           3.8333333333333335,
           3.2983970406905057
          ],
          "sizemode": "area",
          "sizeref": 0.011627906976744186,
          "symbol": "circle"
         },
         "mode": "markers",
         "name": "Energy/Utillities",
         "orientation": "v",
         "showlegend": true,
         "type": "scatter",
         "x": [
          4.468634686346864,
          3.9776951672862455,
          3.6695402298850577,
          3.8333333333333335,
          3.2983970406905057
         ],
         "xaxis": "x",
         "y": [
          271,
          269,
          696,
          18,
          811
         ],
         "yaxis": "y"
        },
        {
         "hovertemplate": "<b>%{hovertext}</b><br><br>industry=Govertment <br>overall rating=%{marker.size}<br>number of reviews=%{y}<extra></extra>",
         "hovertext": [
          "Animal-and-Plant-Health-Agency",
          "BIS",
          "Civil-Service-United-Kingdom",
          "Communities-and-Local-Government",
          "Companies-House",
          "DFID",
          "Department-for-Work-And-Pensions",
          "Durham-County-Council",
          "East-Sussex-County-Council",
          "Engineering-and-Physical-Sciences-Research-Council",
          "Foreign-and-Commonwealth-Office"
         ],
         "legendgroup": "Govertment ",
         "marker": {
          "color": "#636efa",
          "size": [
           3.6818181818181817,
           3.3125,
           3.8265895953757227,
           3.71875,
           4.086956521739131,
           3.845360824742268,
           3.543909348441926,
           4,
           3.761904761904762,
           4.294117647058823,
           3.5632183908045976
          ],
          "sizemode": "area",
          "sizeref": 0.011627906976744186,
          "symbol": "circle"
         },
         "mode": "markers",
         "name": "Govertment ",
         "orientation": "v",
         "showlegend": true,
         "type": "scatter",
         "x": [
          3.6818181818181817,
          3.3125,
          3.8265895953757227,
          3.71875,
          4.086956521739131,
          3.845360824742268,
          3.543909348441926,
          4,
          3.761904761904762,
          4.294117647058823,
          3.5632183908045976
         ],
         "xaxis": "x",
         "y": [
          22,
          64,
          519,
          192,
          23,
          97,
          706,
          45,
          42,
          17,
          261
         ],
         "yaxis": "y"
        },
        {
         "hovertemplate": "<b>%{hovertext}</b><br><br>industry=IT<br>overall rating=%{marker.size}<br>number of reviews=%{y}<extra></extra>",
         "hovertext": [
          "Apple",
          "BT",
          "Booking-com",
          "Bullhorn",
          "Cisco-Systems",
          "CityFibre",
          "Colt-Technology-Services",
          "Dynatrace",
          "FARFETCH",
          "Facebook",
          "Google"
         ],
         "legendgroup": "IT",
         "marker": {
          "color": "#EF553B",
          "size": [
           4.048420445256528,
           3.4272062956717257,
           3.5023901661734578,
           4.0864864864864865,
           3.8962264150943398,
           4.441558441558442,
           3.9330357142857144,
           4.082670906200318,
           3.9078726968174204,
           4.2740112994350286,
           4.036290322580645
          ],
          "sizemode": "area",
          "sizeref": 0.011627906976744186,
          "symbol": "circle"
         },
         "mode": "markers",
         "name": "IT",
         "orientation": "v",
         "showlegend": true,
         "type": "scatter",
         "x": [
          4.048420445256528,
          3.4272062956717257,
          3.5023901661734578,
          4.0864864864864865,
          3.8962264150943398,
          4.441558441558442,
          3.9330357142857144,
          4.082670906200318,
          3.9078726968174204,
          4.2740112994350286,
          4.036290322580645
         ],
         "xaxis": "x",
         "y": [
          20797,
          5337,
          4393,
          370,
          530,
          77,
          224,
          629,
          597,
          354,
          248
         ],
         "yaxis": "y"
        },
        {
         "hovertemplate": "<b>%{hovertext}</b><br><br>industry=Pharmaceutical<br>overall rating=%{marker.size}<br>number of reviews=%{y}<extra></extra>",
         "hovertext": [
          "AstraZeneca",
          "Bayer",
          "CVS-Group",
          "GLL",
          "GlaxoSmithKline"
         ],
         "legendgroup": "Pharmaceutical",
         "marker": {
          "color": "#00cc96",
          "size": [
           3.726982282892826,
           3.7320770176157314,
           3.536764705882353,
           3.0826446280991737,
           3.698016294721927
          ],
          "sizemode": "area",
          "sizeref": 0.011627906976744186,
          "symbol": "circle"
         },
         "mode": "markers",
         "name": "Pharmaceutical",
         "orientation": "v",
         "showlegend": true,
         "type": "scatter",
         "x": [
          3.726982282892826,
          3.7320770176157314,
          3.536764705882353,
          3.0826446280991737,
          3.698016294721927
         ],
         "xaxis": "x",
         "y": [
          3443,
          2441,
          136,
          363,
          5646
         ],
         "yaxis": "y"
        },
        {
         "hovertemplate": "<b>%{hovertext}</b><br><br>industry=Food and Beverages<br>overall rating=%{marker.size}<br>number of reviews=%{y}<extra></extra>",
         "hovertext": [
          "BAT"
         ],
         "legendgroup": "Food and Beverages",
         "marker": {
          "color": "#ab63fa",
          "size": [
           3.7405857740585775
          ],
          "sizemode": "area",
          "sizeref": 0.011627906976744186,
          "symbol": "circle"
         },
         "mode": "markers",
         "name": "Food and Beverages",
         "orientation": "v",
         "showlegend": true,
         "type": "scatter",
         "x": [
          3.7405857740585775
         ],
         "xaxis": "x",
         "y": [
          239
         ],
         "yaxis": "y"
        },
        {
         "hovertemplate": "<b>%{hovertext}</b><br><br>industry=Logistics<br>overall rating=%{marker.size}<br>number of reviews=%{y}<extra></extra>",
         "hovertext": [
          "British-Airways",
          "DHL-Supply-Chain",
          "DPDgroup"
         ],
         "legendgroup": "Logistics",
         "marker": {
          "color": "#FFA15A",
          "size": [
           3.1793704967766403,
           3.365972222222222,
           3.161290322580645
          ],
          "sizemode": "area",
          "sizeref": 0.011627906976744186,
          "symbol": "circle"
         },
         "mode": "markers",
         "name": "Logistics",
         "orientation": "v",
         "showlegend": true,
         "type": "scatter",
         "x": [
          3.1793704967766403,
          3.365972222222222,
          3.161290322580645
         ],
         "xaxis": "x",
         "y": [
          2637,
          2880,
          310
         ],
         "yaxis": "y"
        },
        {
         "hovertemplate": "<b>%{hovertext}</b><br><br>industry=Real Estate<br>overall rating=%{marker.size}<br>number of reviews=%{y}<extra></extra>",
         "hovertext": [
          "CBRE",
          "Countrywide-plc",
          "Cushman-and-Wakefield",
          "FirstPort",
          "Foxtons"
         ],
         "legendgroup": "Real Estate",
         "marker": {
          "color": "#19d3f3",
          "size": [
           3.6603487490523126,
           3.118483412322275,
           3.558777016341592,
           4.036842105263158,
           3.4190687361419068
          ],
          "sizemode": "area",
          "sizeref": 0.011627906976744186,
          "symbol": "circle"
         },
         "mode": "markers",
         "name": "Real Estate",
         "orientation": "v",
         "showlegend": true,
         "type": "scatter",
         "x": [
          3.6603487490523126,
          3.118483412322275,
          3.558777016341592,
          4.036842105263158,
          3.4190687361419068
         ],
         "xaxis": "x",
         "y": [
          5276,
          422,
          1897,
          190,
          451
         ],
         "yaxis": "y"
        },
        {
         "hovertemplate": "<b>%{hovertext}</b><br><br>industry=Legal Services<br>overall rating=%{marker.size}<br>number of reviews=%{y}<extra></extra>",
         "hovertext": [
          "Crown-Prosecution-Service",
          "DWF",
          "Eversheds-Sutherland",
          "Freshfields-Bruckhaus-Deringer",
          "Gateley"
         ],
         "legendgroup": "Legal Services",
         "marker": {
          "color": "#FF6692",
          "size": [
           3.064935064935065,
           3.3333333333333335,
           3.480769230769231,
           3.565068493150685,
           4.540983606557377
          ],
          "sizemode": "area",
          "sizeref": 0.011627906976744186,
          "symbol": "circle"
         },
         "mode": "markers",
         "name": "Legal Services",
         "orientation": "v",
         "showlegend": true,
         "type": "scatter",
         "x": [
          3.064935064935065,
          3.3333333333333335,
          3.480769230769231,
          3.565068493150685,
          4.540983606557377
         ],
         "xaxis": "x",
         "y": [
          77,
          213,
          260,
          292,
          61
         ],
         "yaxis": "y"
        }
       ],
       "layout": {
        "legend": {
         "itemsizing": "constant",
         "title": {
          "text": "industry"
         },
         "tracegroupgap": 0
        },
        "template": {
         "data": {
          "bar": [
           {
            "error_x": {
             "color": "#2a3f5f"
            },
            "error_y": {
             "color": "#2a3f5f"
            },
            "marker": {
             "line": {
              "color": "#E5ECF6",
              "width": 0.5
             },
             "pattern": {
              "fillmode": "overlay",
              "size": 10,
              "solidity": 0.2
             }
            },
            "type": "bar"
           }
          ],
          "barpolar": [
           {
            "marker": {
             "line": {
              "color": "#E5ECF6",
              "width": 0.5
             },
             "pattern": {
              "fillmode": "overlay",
              "size": 10,
              "solidity": 0.2
             }
            },
            "type": "barpolar"
           }
          ],
          "carpet": [
           {
            "aaxis": {
             "endlinecolor": "#2a3f5f",
             "gridcolor": "white",
             "linecolor": "white",
             "minorgridcolor": "white",
             "startlinecolor": "#2a3f5f"
            },
            "baxis": {
             "endlinecolor": "#2a3f5f",
             "gridcolor": "white",
             "linecolor": "white",
             "minorgridcolor": "white",
             "startlinecolor": "#2a3f5f"
            },
            "type": "carpet"
           }
          ],
          "choropleth": [
           {
            "colorbar": {
             "outlinewidth": 0,
             "ticks": ""
            },
            "type": "choropleth"
           }
          ],
          "contour": [
           {
            "colorbar": {
             "outlinewidth": 0,
             "ticks": ""
            },
            "colorscale": [
             [
              0,
              "#0d0887"
             ],
             [
              0.1111111111111111,
              "#46039f"
             ],
             [
              0.2222222222222222,
              "#7201a8"
             ],
             [
              0.3333333333333333,
              "#9c179e"
             ],
             [
              0.4444444444444444,
              "#bd3786"
             ],
             [
              0.5555555555555556,
              "#d8576b"
             ],
             [
              0.6666666666666666,
              "#ed7953"
             ],
             [
              0.7777777777777778,
              "#fb9f3a"
             ],
             [
              0.8888888888888888,
              "#fdca26"
             ],
             [
              1,
              "#f0f921"
             ]
            ],
            "type": "contour"
           }
          ],
          "contourcarpet": [
           {
            "colorbar": {
             "outlinewidth": 0,
             "ticks": ""
            },
            "type": "contourcarpet"
           }
          ],
          "heatmap": [
           {
            "colorbar": {
             "outlinewidth": 0,
             "ticks": ""
            },
            "colorscale": [
             [
              0,
              "#0d0887"
             ],
             [
              0.1111111111111111,
              "#46039f"
             ],
             [
              0.2222222222222222,
              "#7201a8"
             ],
             [
              0.3333333333333333,
              "#9c179e"
             ],
             [
              0.4444444444444444,
              "#bd3786"
             ],
             [
              0.5555555555555556,
              "#d8576b"
             ],
             [
              0.6666666666666666,
              "#ed7953"
             ],
             [
              0.7777777777777778,
              "#fb9f3a"
             ],
             [
              0.8888888888888888,
              "#fdca26"
             ],
             [
              1,
              "#f0f921"
             ]
            ],
            "type": "heatmap"
           }
          ],
          "heatmapgl": [
           {
            "colorbar": {
             "outlinewidth": 0,
             "ticks": ""
            },
            "colorscale": [
             [
              0,
              "#0d0887"
             ],
             [
              0.1111111111111111,
              "#46039f"
             ],
             [
              0.2222222222222222,
              "#7201a8"
             ],
             [
              0.3333333333333333,
              "#9c179e"
             ],
             [
              0.4444444444444444,
              "#bd3786"
             ],
             [
              0.5555555555555556,
              "#d8576b"
             ],
             [
              0.6666666666666666,
              "#ed7953"
             ],
             [
              0.7777777777777778,
              "#fb9f3a"
             ],
             [
              0.8888888888888888,
              "#fdca26"
             ],
             [
              1,
              "#f0f921"
             ]
            ],
            "type": "heatmapgl"
           }
          ],
          "histogram": [
           {
            "marker": {
             "pattern": {
              "fillmode": "overlay",
              "size": 10,
              "solidity": 0.2
             }
            },
            "type": "histogram"
           }
          ],
          "histogram2d": [
           {
            "colorbar": {
             "outlinewidth": 0,
             "ticks": ""
            },
            "colorscale": [
             [
              0,
              "#0d0887"
             ],
             [
              0.1111111111111111,
              "#46039f"
             ],
             [
              0.2222222222222222,
              "#7201a8"
             ],
             [
              0.3333333333333333,
              "#9c179e"
             ],
             [
              0.4444444444444444,
              "#bd3786"
             ],
             [
              0.5555555555555556,
              "#d8576b"
             ],
             [
              0.6666666666666666,
              "#ed7953"
             ],
             [
              0.7777777777777778,
              "#fb9f3a"
             ],
             [
              0.8888888888888888,
              "#fdca26"
             ],
             [
              1,
              "#f0f921"
             ]
            ],
            "type": "histogram2d"
           }
          ],
          "histogram2dcontour": [
           {
            "colorbar": {
             "outlinewidth": 0,
             "ticks": ""
            },
            "colorscale": [
             [
              0,
              "#0d0887"
             ],
             [
              0.1111111111111111,
              "#46039f"
             ],
             [
              0.2222222222222222,
              "#7201a8"
             ],
             [
              0.3333333333333333,
              "#9c179e"
             ],
             [
              0.4444444444444444,
              "#bd3786"
             ],
             [
              0.5555555555555556,
              "#d8576b"
             ],
             [
              0.6666666666666666,
              "#ed7953"
             ],
             [
              0.7777777777777778,
              "#fb9f3a"
             ],
             [
              0.8888888888888888,
              "#fdca26"
             ],
             [
              1,
              "#f0f921"
             ]
            ],
            "type": "histogram2dcontour"
           }
          ],
          "mesh3d": [
           {
            "colorbar": {
             "outlinewidth": 0,
             "ticks": ""
            },
            "type": "mesh3d"
           }
          ],
          "parcoords": [
           {
            "line": {
             "colorbar": {
              "outlinewidth": 0,
              "ticks": ""
             }
            },
            "type": "parcoords"
           }
          ],
          "pie": [
           {
            "automargin": true,
            "type": "pie"
           }
          ],
          "scatter": [
           {
            "fillpattern": {
             "fillmode": "overlay",
             "size": 10,
             "solidity": 0.2
            },
            "type": "scatter"
           }
          ],
          "scatter3d": [
           {
            "line": {
             "colorbar": {
              "outlinewidth": 0,
              "ticks": ""
             }
            },
            "marker": {
             "colorbar": {
              "outlinewidth": 0,
              "ticks": ""
             }
            },
            "type": "scatter3d"
           }
          ],
          "scattercarpet": [
           {
            "marker": {
             "colorbar": {
              "outlinewidth": 0,
              "ticks": ""
             }
            },
            "type": "scattercarpet"
           }
          ],
          "scattergeo": [
           {
            "marker": {
             "colorbar": {
              "outlinewidth": 0,
              "ticks": ""
             }
            },
            "type": "scattergeo"
           }
          ],
          "scattergl": [
           {
            "marker": {
             "colorbar": {
              "outlinewidth": 0,
              "ticks": ""
             }
            },
            "type": "scattergl"
           }
          ],
          "scattermapbox": [
           {
            "marker": {
             "colorbar": {
              "outlinewidth": 0,
              "ticks": ""
             }
            },
            "type": "scattermapbox"
           }
          ],
          "scatterpolar": [
           {
            "marker": {
             "colorbar": {
              "outlinewidth": 0,
              "ticks": ""
             }
            },
            "type": "scatterpolar"
           }
          ],
          "scatterpolargl": [
           {
            "marker": {
             "colorbar": {
              "outlinewidth": 0,
              "ticks": ""
             }
            },
            "type": "scatterpolargl"
           }
          ],
          "scatterternary": [
           {
            "marker": {
             "colorbar": {
              "outlinewidth": 0,
              "ticks": ""
             }
            },
            "type": "scatterternary"
           }
          ],
          "surface": [
           {
            "colorbar": {
             "outlinewidth": 0,
             "ticks": ""
            },
            "colorscale": [
             [
              0,
              "#0d0887"
             ],
             [
              0.1111111111111111,
              "#46039f"
             ],
             [
              0.2222222222222222,
              "#7201a8"
             ],
             [
              0.3333333333333333,
              "#9c179e"
             ],
             [
              0.4444444444444444,
              "#bd3786"
             ],
             [
              0.5555555555555556,
              "#d8576b"
             ],
             [
              0.6666666666666666,
              "#ed7953"
             ],
             [
              0.7777777777777778,
              "#fb9f3a"
             ],
             [
              0.8888888888888888,
              "#fdca26"
             ],
             [
              1,
              "#f0f921"
             ]
            ],
            "type": "surface"
           }
          ],
          "table": [
           {
            "cells": {
             "fill": {
              "color": "#EBF0F8"
             },
             "line": {
              "color": "white"
             }
            },
            "header": {
             "fill": {
              "color": "#C8D4E3"
             },
             "line": {
              "color": "white"
             }
            },
            "type": "table"
           }
          ]
         },
         "layout": {
          "annotationdefaults": {
           "arrowcolor": "#2a3f5f",
           "arrowhead": 0,
           "arrowwidth": 1
          },
          "autotypenumbers": "strict",
          "coloraxis": {
           "colorbar": {
            "outlinewidth": 0,
            "ticks": ""
           }
          },
          "colorscale": {
           "diverging": [
            [
             0,
             "#8e0152"
            ],
            [
             0.1,
             "#c51b7d"
            ],
            [
             0.2,
             "#de77ae"
            ],
            [
             0.3,
             "#f1b6da"
            ],
            [
             0.4,
             "#fde0ef"
            ],
            [
             0.5,
             "#f7f7f7"
            ],
            [
             0.6,
             "#e6f5d0"
            ],
            [
             0.7,
             "#b8e186"
            ],
            [
             0.8,
             "#7fbc41"
            ],
            [
             0.9,
             "#4d9221"
            ],
            [
             1,
             "#276419"
            ]
           ],
           "sequential": [
            [
             0,
             "#0d0887"
            ],
            [
             0.1111111111111111,
             "#46039f"
            ],
            [
             0.2222222222222222,
             "#7201a8"
            ],
            [
             0.3333333333333333,
             "#9c179e"
            ],
            [
             0.4444444444444444,
             "#bd3786"
            ],
            [
             0.5555555555555556,
             "#d8576b"
            ],
            [
             0.6666666666666666,
             "#ed7953"
            ],
            [
             0.7777777777777778,
             "#fb9f3a"
            ],
            [
             0.8888888888888888,
             "#fdca26"
            ],
            [
             1,
             "#f0f921"
            ]
           ],
           "sequentialminus": [
            [
             0,
             "#0d0887"
            ],
            [
             0.1111111111111111,
             "#46039f"
            ],
            [
             0.2222222222222222,
             "#7201a8"
            ],
            [
             0.3333333333333333,
             "#9c179e"
            ],
            [
             0.4444444444444444,
             "#bd3786"
            ],
            [
             0.5555555555555556,
             "#d8576b"
            ],
            [
             0.6666666666666666,
             "#ed7953"
            ],
            [
             0.7777777777777778,
             "#fb9f3a"
            ],
            [
             0.8888888888888888,
             "#fdca26"
            ],
            [
             1,
             "#f0f921"
            ]
           ]
          },
          "colorway": [
           "#636efa",
           "#EF553B",
           "#00cc96",
           "#ab63fa",
           "#FFA15A",
           "#19d3f3",
           "#FF6692",
           "#B6E880",
           "#FF97FF",
           "#FECB52"
          ],
          "font": {
           "color": "#2a3f5f"
          },
          "geo": {
           "bgcolor": "white",
           "lakecolor": "white",
           "landcolor": "#E5ECF6",
           "showlakes": true,
           "showland": true,
           "subunitcolor": "white"
          },
          "hoverlabel": {
           "align": "left"
          },
          "hovermode": "closest",
          "mapbox": {
           "style": "light"
          },
          "paper_bgcolor": "white",
          "plot_bgcolor": "#E5ECF6",
          "polar": {
           "angularaxis": {
            "gridcolor": "white",
            "linecolor": "white",
            "ticks": ""
           },
           "bgcolor": "#E5ECF6",
           "radialaxis": {
            "gridcolor": "white",
            "linecolor": "white",
            "ticks": ""
           }
          },
          "scene": {
           "xaxis": {
            "backgroundcolor": "#E5ECF6",
            "gridcolor": "white",
            "gridwidth": 2,
            "linecolor": "white",
            "showbackground": true,
            "ticks": "",
            "zerolinecolor": "white"
           },
           "yaxis": {
            "backgroundcolor": "#E5ECF6",
            "gridcolor": "white",
            "gridwidth": 2,
            "linecolor": "white",
            "showbackground": true,
            "ticks": "",
            "zerolinecolor": "white"
           },
           "zaxis": {
            "backgroundcolor": "#E5ECF6",
            "gridcolor": "white",
            "gridwidth": 2,
            "linecolor": "white",
            "showbackground": true,
            "ticks": "",
            "zerolinecolor": "white"
           }
          },
          "shapedefaults": {
           "line": {
            "color": "#2a3f5f"
           }
          },
          "ternary": {
           "aaxis": {
            "gridcolor": "white",
            "linecolor": "white",
            "ticks": ""
           },
           "baxis": {
            "gridcolor": "white",
            "linecolor": "white",
            "ticks": ""
           },
           "bgcolor": "#E5ECF6",
           "caxis": {
            "gridcolor": "white",
            "linecolor": "white",
            "ticks": ""
           }
          },
          "title": {
           "x": 0.05
          },
          "xaxis": {
           "automargin": true,
           "gridcolor": "white",
           "linecolor": "white",
           "ticks": "",
           "title": {
            "standoff": 15
           },
           "zerolinecolor": "white",
           "zerolinewidth": 2
          },
          "yaxis": {
           "automargin": true,
           "gridcolor": "white",
           "linecolor": "white",
           "ticks": "",
           "title": {
            "standoff": 15
           },
           "zerolinecolor": "white",
           "zerolinewidth": 2
          }
         }
        },
        "title": {
         "text": "Puntaje Total Promedio por Compañia"
        },
        "xaxis": {
         "anchor": "y",
         "domain": [
          0,
          1
         ],
         "title": {
          "text": "overall rating"
         }
        },
        "yaxis": {
         "anchor": "x",
         "domain": [
          0,
          1
         ],
         "title": {
          "text": "number of reviews"
         },
         "type": "log"
        }
       }
      }
     },
     "metadata": {},
     "output_type": "display_data"
    },
    {
     "name": "stdout",
     "output_type": "stream",
     "text": [
      "promedio de todos los reviews:3.63867529873522|promedio no pesado:3.5488595982550586\n"
     ]
    }
   ],
   "source": [
    "#genero un diccionario key-value \n",
    "industry_dict = dict(zip(industries['firm'], industries['industry']))\n",
    "\n",
    "\n",
    "#lo uso para mapear los valores a cada una de las compañias\n",
    "df['industry'] = df['firm'].map(industry_dict)\n",
    "\n",
    "overall_mean = df.groupby(['firm','industry'],as_index=False)['overall_rating'].agg(['mean','count'])\n",
    "\n",
    "print(overall_mean)\n",
    "\n",
    "fig = px.scatter(overall_mean , x='mean',y='count', color='industry', log_y= True,\n",
    "  hover_name='firm', labels={'mean': \"overall rating\", 'count':'number of reviews'}, size= 'mean',\n",
    "  title='Puntaje Total Promedio por Compañia')\n",
    "\n",
    "\n",
    "fig.show()\n",
    "\n",
    "print('promedio de todos los reviews:' + str(df['overall_rating'].mean())+ '|' + 'promedio no pesado:'+ str(overall_mean['mean'].mean()))"
   ]
  },
  {
   "cell_type": "code",
   "execution_count": 24,
   "metadata": {},
   "outputs": [
    {
     "data": {
      "text/plain": [
       "0    2\n",
       "1    2\n",
       "2    1\n",
       "3    5\n",
       "4    1\n",
       "Name: overall_rating, dtype: int64"
      ]
     },
     "execution_count": 24,
     "metadata": {},
     "output_type": "execute_result"
    }
   ],
   "source": [
    "df['overall_rating'].head()"
   ]
  },
  {
   "cell_type": "markdown",
   "metadata": {},
   "source": [
    "> No hay una diferencia muy significativa entre los dos tipos de promedio y como demuestra el gráfico el puntaje de la mayoría de las empresas estan concentradas alrededor del 3,5-3,6. Hay tres empresas que tienen puntuaciones muy por debajo del promedio. "
   ]
  },
  {
   "cell_type": "code",
   "execution_count": null,
   "metadata": {},
   "outputs": [],
   "source": []
  },
  {
   "cell_type": "code",
   "execution_count": 25,
   "metadata": {},
   "outputs": [
    {
     "data": {
      "text/plain": [
       "Text(1.0, 1.0, 'Opiniones por empresa')"
      ]
     },
     "execution_count": 25,
     "metadata": {},
     "output_type": "execute_result"
    },
    {
     "data": {
      "image/png": "[encoded data removed]",
      "text/plain": [
       "<Figure size 4000x3000 with 1 Axes>"
      ]
     },
     "metadata": {},
     "output_type": "display_data"
    }
   ],
   "source": [
    "\n",
    "\n",
    "toptenfirms = firms['firm'].value_counts().head(10)\n",
    "\n",
    "fig, ax = plt.subplots(figsize =(40,30))\n",
    "\n",
    "\n",
    "\n",
    "\n",
    "review_quantity = toptenfirms.values\n",
    "firm_names = toptenfirms.index\n",
    "\n",
    "ax.barh(firm_names, review_quantity)\n",
    "# Remove axes splines\n",
    "for s in ['top', 'bottom', 'left', 'right']:\n",
    "    ax.spines[s].set_visible(False)\n",
    "\n",
    "# Remove x, y Ticks\n",
    "ax.xaxis.set_ticks_position('none')\n",
    "ax.yaxis.set_ticks_position('none')\n",
    "\n",
    "# Add padding between axes and labels\n",
    "ax.xaxis.set_tick_params(pad = 5)\n",
    "ax.yaxis.set_tick_params(pad = 5)\n",
    "\n",
    "# Add x, y gridlines\n",
    "ax.grid( color ='grey',\n",
    "        linestyle ='-.', linewidth = 0.5,\n",
    "        alpha = 1)\n",
    "\n",
    "# Show top values\n",
    "ax.invert_yaxis()\n",
    "\n",
    "# Add annotation to bars\n",
    "for i in ax.patches:\n",
    "    plt.text(i.get_width()+0.6, i.get_y()+0.9,\n",
    "             str(round((i.get_width()), 2)),\n",
    "             fontsize = 10, fontweight ='bold',\n",
    "             color ='grey')\n",
    "\n",
    "# Add Plot Title\n",
    "ax.set_title('Opiniones por empresa',\n",
    "             loc ='right', )\n",
    "\n",
    "\n",
    "\n",
    "# Show Plot\n",
    "# plt.show()"
   ]
  },
  {
   "cell_type": "code",
   "execution_count": 26,
   "metadata": {},
   "outputs": [],
   "source": [
    "#Filtramos los resultados por pertenencia a estas compañias\n",
    "\n",
    "Not_DEACB_firms = df[~df['firm'].isin(['Deloitte','EY','Apple','Citi','Barclays'])]\n",
    "\n",
    "DEACB_firms = df[df['firm'].isin(['Deloitte','EY','Apple','Citi','Barclays'])]"
   ]
  },
  {
   "cell_type": "code",
   "execution_count": 27,
   "metadata": {},
   "outputs": [
    {
     "name": "stdout",
     "output_type": "stream",
     "text": [
      "firm\n",
      "American-Express                                      3.264612\n",
      "Goldman-Sachs                                         3.075698\n",
      "BNY-Mellon                                            2.315154\n",
      "Deutsche-Bank                                         2.230649\n",
      "GlaxoSmithKline                                       1.971548\n",
      "                                                        ...   \n",
      "Animal-and-Plant-Health-Agency                        0.007682\n",
      "BayWa-r-e-renewable-energy                            0.006285\n",
      "Engineering-and-Physical-Sciences-Research-Council    0.005936\n",
      "Abertawe-Bro-Morgannwg-University-Health-Board        0.003143\n",
      "Achieving-for-Children                                0.002095\n",
      "Name: count, Length: 144, dtype: float64\n"
     ]
    }
   ],
   "source": [
    "print((Not_DEACB_firms['firm'].value_counts())/df.shape[0]*100)"
   ]
  },
  {
   "cell_type": "code",
   "execution_count": 28,
   "metadata": {},
   "outputs": [
    {
     "data": {
      "application/vnd.jupyter.widget-view+json": {
       "model_id": "c930515379474d7dbdc3bc8b66120802",
       "version_major": 2,
       "version_minor": 0
      },
      "text/plain": [
       "interactive(children=(Dropdown(description='column', options=('overall_rating', 'work_life_balance', 'culture_…"
      ]
     },
     "metadata": {},
     "output_type": "display_data"
    }
   ],
   "source": [
    "#agregar a df o firms una columna que conterga si pertenecen o no a la distribución normal\n",
    "# ver como la profesora hizo el grafico en una escala logaritmica para ver si normaliza el dataset\n",
    "\n",
    "# no sé porque \n",
    "import warnings\n",
    "warnings.simplefilter(action=\"ignore\", category=FutureWarning)\n",
    "@interact_manual\n",
    "\n",
    "def countplots(\n",
    "    column = list(df.select_dtypes('number').columns)\n",
    "):\n",
    "    fig, axs = plt.subplots(ncols=3, sharey= True)\n",
    "\n",
    "    fig.suptitle(f'Distribución de {column}')\n",
    "    sns.countplot(data=DEACB_firms, x=column, \n",
    "        palette=\"pastel\", edgecolor=\".6\", ax=axs[0])\n",
    "    axs[0].set_title('Firmas del Top 10')\n",
    "    sns.countplot(data=Not_DEACB_firms, x=column, \n",
    "        palette=\"pastel\", edgecolor=\".6\", ax=axs[1])\n",
    "    axs[1].set_title('Resto de compañias')\n",
    "    sns.countplot(data=df, x=column, \n",
    "        palette=\"pastel\", edgecolor=\".6\", ax=axs[2])\n",
    "    axs[2].set_title('Todas las compañias')\n",
    "    \n",
    "    plt.show()                             \n"
   ]
  },
  {
   "cell_type": "markdown",
   "metadata": {},
   "source": [
    "> El top diez de  las compañias por cantidad de reseñas tiene una menor menos puntuaciones de 1 ó 2 pero parece tener una distribución de estas reseñas que sigue la tendencia del resto de las compañias de la muestra. La tendencia demuestra una concentración de reseñas con valores superiores a tres en los tres escenarios. Y tambin tanto para las empresas más reseñadas y el resto el valor que más ponen en sus reseñas es 4. \n",
    "\n",
    "> Sin embargo, cuando nos movemos a las variables de oportunidad de crecimieto o "
   ]
  },
  {
   "cell_type": "markdown",
   "metadata": {},
   "source": []
  },
  {
   "cell_type": "markdown",
   "metadata": {},
   "source": []
  },
  {
   "cell_type": "markdown",
   "metadata": {},
   "source": [
    "## Tratamiento de vacíos \n",
    "Para cada uno de los campos que cuentan con al menos un valor faltante hay que evaluar la estrategia más adecuada para darle tratamiento. \n",
    "<br> <br/>\n",
    "**Entonces:** \n",
    "1. Identificar la columna que contiene vacíos\n",
    "2. Intentar entender a qué se debe el valor faltante. ¿Es porque no se capturó el dato? ¿Fue un error de procedimiento? ¿Es una categoría más? ¿Es correcto que exista el campo vacío ya que no tiene presencia en ese registro? \n",
    "3. De acuerdo a cada caso particular, definir la estrategia más adecuada. ¿Inputo a todos los vacíos con un valor, como el mínimo, el máximo, el promedio, la mediana? ¿Uso algún modelo de inputación? ¿Asigno una categoría? \n",
    "<br> <br/>\n",
    "\n",
    "\n",
    "\n",
    "\n",
    "\n",
    " \n",
    "\n"
   ]
  },
  {
   "cell_type": "code",
   "execution_count": 29,
   "metadata": {},
   "outputs": [
    {
     "name": "stdout",
     "output_type": "stream",
     "text": [
      "Cantidad de columnas con valores vacíos:\n",
      "(17,)\n",
      "\n",
      "Variables con valores vacíos: \n",
      "diversity_inclusion    238410\n",
      "ceo_approv_num         103105\n",
      "location                97733\n",
      "outlook_num             97531\n",
      "recommend_num           77136\n",
      "culture_values          61784\n",
      "senior_mgmt             49236\n",
      "work_life_balance       47488\n",
      "comp_benefits           47486\n",
      "career_opp              46923\n",
      "job_title               27298\n",
      "headline_num              930\n",
      "headline                  930\n",
      "cons_num                    6\n",
      "cons                        6\n",
      "pros_num                    1\n",
      "pros                        1\n",
      "dtype: int64 \n",
      " \n",
      " diversity_inclusion    83.0\n",
      "ceo_approv_num         36.0\n",
      "location               34.0\n",
      "outlook_num            34.0\n",
      "recommend_num          27.0\n",
      "culture_values         22.0\n",
      "senior_mgmt            17.0\n",
      "work_life_balance      17.0\n",
      "comp_benefits          17.0\n",
      "career_opp             16.0\n",
      "job_title              10.0\n",
      "headline_num            0.0\n",
      "headline                0.0\n",
      "cons_num                0.0\n",
      "cons                    0.0\n",
      "pros_num                0.0\n",
      "pros                    0.0\n",
      "dtype: float64\n"
     ]
    }
   ],
   "source": [
    "df= df.join(df_ordinales,rsuffix='_num')\n",
    "valores_nulos  = df.isnull().sum()\n",
    "columnas_con_nulos = valores_nulos[valores_nulos > 0]\n",
    "print('Cantidad de columnas con valores vacíos:')\n",
    "print(columnas_con_nulos.shape)\n",
    "print('')\n",
    "print('Variables con valores vacíos: ')\n",
    "print(columnas_con_nulos.sort_values(ascending=False)\n",
    "      ,'\\n','\\n',\n",
    "      round(columnas_con_nulos.sort_values(ascending=False)/df.shape[0]*100))"
   ]
  },
  {
   "cell_type": "code",
   "execution_count": 30,
   "metadata": {},
   "outputs": [],
   "source": [
    "duplicate_cols = df.columns[df.columns.duplicated()]\n",
    "df.drop(columns=duplicate_cols, inplace=True)"
   ]
  },
  {
   "cell_type": "code",
   "execution_count": null,
   "metadata": {},
   "outputs": [],
   "source": []
  },
  {
   "cell_type": "markdown",
   "metadata": {},
   "source": [
    "#### Missing con más del 30%\n",
    "\n",
    "* **Diversidad e Inclusión:**\n",
    "La variable con mayor cantidad de valores vacíos es **diversity_inclusion**, que indica un puntaje del 1-5 en el aspecto de inclusion y diversidad de las empresas.\n",
    "<br> <br/>\n",
    "Los valores de está variable son una puntuación del 1 al 5, con uno siendo lo más negativo y 5 lo mejor que una compañía puede ser dentro de esa categoría. Los valores nulos en este caso no es una fuente de información y los valores faltantes son tantos que cualquier método de imputación sería muy especulativo.\n",
    "<br> <br/>\n",
    "\n",
    " <br> <br/>\n",
    "**¿Entonces?**\n",
    " <br> <br/>\n",
    " En este caso esta feauture no debería recibir ningun tratamiento especial, por la falta de informacion es preferible no usarla en el modelo.\n",
    "\n",
    "  *  **Location:** Está en un rango de 34% donde hay que tomar una decisión donde la variable podría empezar a considerarse para removerla dependiendo de su importancia.\n",
    "\n",
    "\n",
    " *  **outlook_num:** Está en un rango de 34% y del mismo modo tenemos que ver si perdemos una feauture importante que no estamos utilizando.\n"
   ]
  },
  {
   "cell_type": "markdown",
   "metadata": {},
   "source": [
    "\n",
    "#### Missing con menos del 30%\n",
    "\n",
    "Ya dentro de este rango es una buena práctica obtar por técnicas de imputación para no perder información valiosa para nuestro modelo. \n",
    "\n",
    "* **recommend_num**          26.93\n",
    "* **culture_values**         21.57\n",
    "* **senior_mgmt**           17.19\n",
    "* **work_life_balance**      16.58\n",
    "* **comp_benefits**          16.58\n",
    "* **career_opp**             16.38\n",
    "* **job_title**               9.53\n"
   ]
  },
  {
   "cell_type": "markdown",
   "metadata": {},
   "source": [
    "#### Missing con menos del 5%\n",
    "\n",
    "Es seguro eliminar valores en este rango pero también es posible imputarlos con técnicas simples como el uso de moda o promedios.\n",
    "\n",
    "* **headline_num**             0.32\n",
    "\n",
    "* **cons_num**                0.002\n",
    "\n",
    "* **pros_num**                0.000349\n",
    "\n"
   ]
  },
  {
   "cell_type": "code",
   "execution_count": null,
   "metadata": {},
   "outputs": [],
   "source": []
  },
  {
   "cell_type": "code",
   "execution_count": 63,
   "metadata": {},
   "outputs": [
    {
     "data": {
      "text/html": [
       "<div>\n",
       "<style scoped>\n",
       "    .dataframe tbody tr th:only-of-type {\n",
       "        vertical-align: middle;\n",
       "    }\n",
       "\n",
       "    .dataframe tbody tr th {\n",
       "        vertical-align: top;\n",
       "    }\n",
       "\n",
       "    .dataframe thead th {\n",
       "        text-align: right;\n",
       "    }\n",
       "</style>\n",
       "<table border=\"1\" class=\"dataframe\">\n",
       "  <thead>\n",
       "    <tr style=\"text-align: right;\">\n",
       "      <th></th>\n",
       "      <th>firm</th>\n",
       "      <th>date_review</th>\n",
       "      <th>job_title</th>\n",
       "      <th>current</th>\n",
       "      <th>location</th>\n",
       "      <th>overall_rating</th>\n",
       "      <th>work_life_balance</th>\n",
       "      <th>culture_values</th>\n",
       "      <th>diversity_inclusion</th>\n",
       "      <th>career_opp</th>\n",
       "      <th>...</th>\n",
       "      <th>headline</th>\n",
       "      <th>pros</th>\n",
       "      <th>cons</th>\n",
       "      <th>headline_num</th>\n",
       "      <th>cons_num</th>\n",
       "      <th>pros_num</th>\n",
       "      <th>industry</th>\n",
       "      <th>recommend_num</th>\n",
       "      <th>ceo_approv_num</th>\n",
       "      <th>outlook_num</th>\n",
       "    </tr>\n",
       "  </thead>\n",
       "  <tbody>\n",
       "    <tr>\n",
       "      <th>17069</th>\n",
       "      <td>American-Express</td>\n",
       "      <td>2016-05-30</td>\n",
       "      <td>NaN</td>\n",
       "      <td>Current Employee</td>\n",
       "      <td>Gurgaon, Haryana, Haryana</td>\n",
       "      <td>4</td>\n",
       "      <td>NaN</td>\n",
       "      <td>NaN</td>\n",
       "      <td>NaN</td>\n",
       "      <td>NaN</td>\n",
       "      <td>...</td>\n",
       "      <td>Director</td>\n",
       "      <td>Great place to work and enough opportunites in...</td>\n",
       "      <td>NaN</td>\n",
       "      <td>0.0000</td>\n",
       "      <td>NaN</td>\n",
       "      <td>0.6249</td>\n",
       "      <td>Finance</td>\n",
       "      <td>NaN</td>\n",
       "      <td>NaN</td>\n",
       "      <td>NaN</td>\n",
       "    </tr>\n",
       "    <tr>\n",
       "      <th>62585</th>\n",
       "      <td>BNP-Paribas</td>\n",
       "      <td>2015-12-03</td>\n",
       "      <td>GECD Middle Office Trade Support</td>\n",
       "      <td>Current Employee, more than 5 years</td>\n",
       "      <td>Paris</td>\n",
       "      <td>4</td>\n",
       "      <td>NaN</td>\n",
       "      <td>NaN</td>\n",
       "      <td>NaN</td>\n",
       "      <td>NaN</td>\n",
       "      <td>...</td>\n",
       "      <td>Assistant Vice President</td>\n",
       "      <td>Great benefits, great work atmosphere</td>\n",
       "      <td>NaN</td>\n",
       "      <td>0.0000</td>\n",
       "      <td>NaN</td>\n",
       "      <td>0.8957</td>\n",
       "      <td>Finance</td>\n",
       "      <td>NaN</td>\n",
       "      <td>NaN</td>\n",
       "      <td>NaN</td>\n",
       "    </tr>\n",
       "    <tr>\n",
       "      <th>197269</th>\n",
       "      <td>Deloitte</td>\n",
       "      <td>2019-07-18</td>\n",
       "      <td>Associate Analyst</td>\n",
       "      <td>Current Employee, more than 1 year</td>\n",
       "      <td>Hyderābād</td>\n",
       "      <td>5</td>\n",
       "      <td>5.0</td>\n",
       "      <td>5.0</td>\n",
       "      <td>NaN</td>\n",
       "      <td>5.0</td>\n",
       "      <td>...</td>\n",
       "      <td>Great experience for a fresher</td>\n",
       "      <td>we get to work with different technologies and...</td>\n",
       "      <td>NaN</td>\n",
       "      <td>0.6249</td>\n",
       "      <td>NaN</td>\n",
       "      <td>0.5859</td>\n",
       "      <td>Consulting</td>\n",
       "      <td>5.0</td>\n",
       "      <td>5.0</td>\n",
       "      <td>5.0</td>\n",
       "    </tr>\n",
       "    <tr>\n",
       "      <th>244086</th>\n",
       "      <td>EY</td>\n",
       "      <td>2017-02-07</td>\n",
       "      <td>NaN</td>\n",
       "      <td>Current Employee</td>\n",
       "      <td>NaN</td>\n",
       "      <td>5</td>\n",
       "      <td>4.0</td>\n",
       "      <td>5.0</td>\n",
       "      <td>NaN</td>\n",
       "      <td>5.0</td>\n",
       "      <td>...</td>\n",
       "      <td>Great place to work, learn, and develop</td>\n",
       "      <td>Great People and interesting work</td>\n",
       "      <td>NaN</td>\n",
       "      <td>0.6249</td>\n",
       "      <td>NaN</td>\n",
       "      <td>0.7783</td>\n",
       "      <td>Consulting</td>\n",
       "      <td>5.0</td>\n",
       "      <td>5.0</td>\n",
       "      <td>5.0</td>\n",
       "    </tr>\n",
       "    <tr>\n",
       "      <th>253772</th>\n",
       "      <td>EY</td>\n",
       "      <td>2019-09-17</td>\n",
       "      <td>Senior Consultant</td>\n",
       "      <td>Former Employee, more than 3 years</td>\n",
       "      <td>Koch</td>\n",
       "      <td>5</td>\n",
       "      <td>4.0</td>\n",
       "      <td>4.0</td>\n",
       "      <td>NaN</td>\n",
       "      <td>4.0</td>\n",
       "      <td>...</td>\n",
       "      <td>Senior Consultant</td>\n",
       "      <td>Good working  Environment, Lots of new technol...</td>\n",
       "      <td>NaN</td>\n",
       "      <td>0.0000</td>\n",
       "      <td>NaN</td>\n",
       "      <td>0.4404</td>\n",
       "      <td>Consulting</td>\n",
       "      <td>5.0</td>\n",
       "      <td>5.0</td>\n",
       "      <td>5.0</td>\n",
       "    </tr>\n",
       "    <tr>\n",
       "      <th>286373</th>\n",
       "      <td>Google</td>\n",
       "      <td>2009-05-13</td>\n",
       "      <td>Manager, Online Sales &amp; Operations</td>\n",
       "      <td>Former Employee</td>\n",
       "      <td>Mountain View, CA</td>\n",
       "      <td>5</td>\n",
       "      <td>5.0</td>\n",
       "      <td>NaN</td>\n",
       "      <td>NaN</td>\n",
       "      <td>4.0</td>\n",
       "      <td>...</td>\n",
       "      <td>Still a great company to work for, but underst...</td>\n",
       "      <td>Google offers a great environment where you ar...</td>\n",
       "      <td>NaN</td>\n",
       "      <td>0.3716</td>\n",
       "      <td>NaN</td>\n",
       "      <td>0.8176</td>\n",
       "      <td>IT</td>\n",
       "      <td>5.0</td>\n",
       "      <td>5.0</td>\n",
       "      <td>NaN</td>\n",
       "    </tr>\n",
       "  </tbody>\n",
       "</table>\n",
       "<p>6 rows × 25 columns</p>\n",
       "</div>"
      ],
      "text/plain": [
       "                    firm date_review                            job_title  \\\n",
       "17069   American-Express  2016-05-30                                  NaN   \n",
       "62585        BNP-Paribas  2015-12-03     GECD Middle Office Trade Support   \n",
       "197269          Deloitte  2019-07-18                    Associate Analyst   \n",
       "244086                EY  2017-02-07                                  NaN   \n",
       "253772                EY  2019-09-17                    Senior Consultant   \n",
       "286373            Google  2009-05-13   Manager, Online Sales & Operations   \n",
       "\n",
       "                                    current                   location  \\\n",
       "17069                      Current Employee  Gurgaon, Haryana, Haryana   \n",
       "62585   Current Employee, more than 5 years                      Paris   \n",
       "197269   Current Employee, more than 1 year                  Hyderābād   \n",
       "244086                     Current Employee                        NaN   \n",
       "253772   Former Employee, more than 3 years                       Koch   \n",
       "286373                      Former Employee          Mountain View, CA   \n",
       "\n",
       "        overall_rating  work_life_balance  culture_values  \\\n",
       "17069                4                NaN             NaN   \n",
       "62585                4                NaN             NaN   \n",
       "197269               5                5.0             5.0   \n",
       "244086               5                4.0             5.0   \n",
       "253772               5                4.0             4.0   \n",
       "286373               5                5.0             NaN   \n",
       "\n",
       "        diversity_inclusion  career_opp  ...  \\\n",
       "17069                   NaN         NaN  ...   \n",
       "62585                   NaN         NaN  ...   \n",
       "197269                  NaN         5.0  ...   \n",
       "244086                  NaN         5.0  ...   \n",
       "253772                  NaN         4.0  ...   \n",
       "286373                  NaN         4.0  ...   \n",
       "\n",
       "                                                 headline  \\\n",
       "17069                                            Director   \n",
       "62585                            Assistant Vice President   \n",
       "197269                     Great experience for a fresher   \n",
       "244086            Great place to work, learn, and develop   \n",
       "253772                                  Senior Consultant   \n",
       "286373  Still a great company to work for, but underst...   \n",
       "\n",
       "                                                     pros cons headline_num  \\\n",
       "17069   Great place to work and enough opportunites in...  NaN       0.0000   \n",
       "62585               Great benefits, great work atmosphere  NaN       0.0000   \n",
       "197269  we get to work with different technologies and...  NaN       0.6249   \n",
       "244086                  Great People and interesting work  NaN       0.6249   \n",
       "253772  Good working  Environment, Lots of new technol...  NaN       0.0000   \n",
       "286373  Google offers a great environment where you ar...  NaN       0.3716   \n",
       "\n",
       "       cons_num pros_num    industry recommend_num  ceo_approv_num  \\\n",
       "17069       NaN   0.6249     Finance           NaN             NaN   \n",
       "62585       NaN   0.8957     Finance           NaN             NaN   \n",
       "197269      NaN   0.5859  Consulting           5.0             5.0   \n",
       "244086      NaN   0.7783  Consulting           5.0             5.0   \n",
       "253772      NaN   0.4404  Consulting           5.0             5.0   \n",
       "286373      NaN   0.8176          IT           5.0             5.0   \n",
       "\n",
       "        outlook_num  \n",
       "17069           NaN  \n",
       "62585           NaN  \n",
       "197269          5.0  \n",
       "244086          5.0  \n",
       "253772          5.0  \n",
       "286373          NaN  \n",
       "\n",
       "[6 rows x 25 columns]"
      ]
     },
     "execution_count": 63,
     "metadata": {},
     "output_type": "execute_result"
    }
   ],
   "source": [
    "df.iloc[df[df['cons_num'].isna()== True].index] "
   ]
  },
  {
   "cell_type": "code",
   "execution_count": 64,
   "metadata": {},
   "outputs": [],
   "source": [
    "cons_promedio = df['cons_num'].mean()\n",
    "df.loc[df[df['cons_num'].isna()== True].index, 'cons_num']= cons_promedio"
   ]
  },
  {
   "cell_type": "code",
   "execution_count": 65,
   "metadata": {},
   "outputs": [
    {
     "data": {
      "text/plain": [
       "0"
      ]
     },
     "execution_count": 65,
     "metadata": {},
     "output_type": "execute_result"
    }
   ],
   "source": [
    "df['cons_num'].isna().sum()"
   ]
  },
  {
   "cell_type": "code",
   "execution_count": 43,
   "metadata": {},
   "outputs": [
    {
     "name": "stdout",
     "output_type": "stream",
     "text": [
      "                    firm date_review                            job_title  \\\n",
      "17069   American-Express  2016-05-30                                  NaN   \n",
      "62585        BNP-Paribas  2015-12-03     GECD Middle Office Trade Support   \n",
      "197269          Deloitte  2019-07-18                    Associate Analyst   \n",
      "244086                EY  2017-02-07                                  NaN   \n",
      "253772                EY  2019-09-17                    Senior Consultant   \n",
      "286373            Google  2009-05-13   Manager, Online Sales & Operations   \n",
      "\n",
      "                                    current                   location  \\\n",
      "17069                      Current Employee  Gurgaon, Haryana, Haryana   \n",
      "62585   Current Employee, more than 5 years                      Paris   \n",
      "197269   Current Employee, more than 1 year                  Hyderābād   \n",
      "244086                     Current Employee                        NaN   \n",
      "253772   Former Employee, more than 3 years                       Koch   \n",
      "286373                      Former Employee          Mountain View, CA   \n",
      "\n",
      "        overall_rating  work_life_balance  culture_values  \\\n",
      "17069                4                NaN             NaN   \n",
      "62585                4                NaN             NaN   \n",
      "197269               5                5.0             5.0   \n",
      "244086               5                4.0             5.0   \n",
      "253772               5                4.0             4.0   \n",
      "286373               5                5.0             NaN   \n",
      "\n",
      "        diversity_inclusion  career_opp  ...  \\\n",
      "17069                   NaN         NaN  ...   \n",
      "62585                   NaN         NaN  ...   \n",
      "197269                  NaN         5.0  ...   \n",
      "244086                  NaN         5.0  ...   \n",
      "253772                  NaN         4.0  ...   \n",
      "286373                  NaN         4.0  ...   \n",
      "\n",
      "                                                 headline  \\\n",
      "17069                                            Director   \n",
      "62585                            Assistant Vice President   \n",
      "197269                     Great experience for a fresher   \n",
      "244086            Great place to work, learn, and develop   \n",
      "253772                                  Senior Consultant   \n",
      "286373  Still a great company to work for, but underst...   \n",
      "\n",
      "                                                     pros cons headline_num  \\\n",
      "17069   Great place to work and enough opportunites in...  NaN       0.0000   \n",
      "62585               Great benefits, great work atmosphere  NaN       0.0000   \n",
      "197269  we get to work with different technologies and...  NaN       0.6249   \n",
      "244086                  Great People and interesting work  NaN       0.6249   \n",
      "253772  Good working  Environment, Lots of new technol...  NaN       0.0000   \n",
      "286373  Google offers a great environment where you ar...  NaN       0.3716   \n",
      "\n",
      "       cons_num pros_num    industry recommend_num  ceo_approv_num  \\\n",
      "17069       NaN   0.6249     Finance           NaN             NaN   \n",
      "62585       NaN   0.8957     Finance           NaN             NaN   \n",
      "197269      NaN   0.5859  Consulting           5.0             5.0   \n",
      "244086      NaN   0.7783  Consulting           5.0             5.0   \n",
      "253772      NaN   0.4404  Consulting           5.0             5.0   \n",
      "286373      NaN   0.8176          IT           5.0             5.0   \n",
      "\n",
      "        outlook_num  \n",
      "17069           NaN  \n",
      "62585           NaN  \n",
      "197269          5.0  \n",
      "244086          5.0  \n",
      "253772          5.0  \n",
      "286373          NaN  \n",
      "\n",
      "[6 rows x 25 columns]\n"
     ]
    }
   ],
   "source": [
    "indexdp = df[df['cons_num'].isna()== True]\n",
    "\n",
    "print(indexdp)"
   ]
  },
  {
   "cell_type": "code",
   "execution_count": null,
   "metadata": {},
   "outputs": [],
   "source": []
  },
  {
   "cell_type": "code",
   "execution_count": 33,
   "metadata": {},
   "outputs": [
    {
     "data": {
      "text/plain": [
       "Index([34], dtype='int64')"
      ]
     },
     "execution_count": 33,
     "metadata": {},
     "output_type": "execute_result"
    }
   ],
   "source": [
    "df[df['pros_num'].isna()== True]=df[df['pros_num'].isna()== True].replace()"
   ]
  },
  {
   "cell_type": "code",
   "execution_count": 34,
   "metadata": {},
   "outputs": [
    {
     "data": {
      "text/html": [
       "<div>\n",
       "<style scoped>\n",
       "    .dataframe tbody tr th:only-of-type {\n",
       "        vertical-align: middle;\n",
       "    }\n",
       "\n",
       "    .dataframe tbody tr th {\n",
       "        vertical-align: top;\n",
       "    }\n",
       "\n",
       "    .dataframe thead th {\n",
       "        text-align: right;\n",
       "    }\n",
       "</style>\n",
       "<table border=\"1\" class=\"dataframe\">\n",
       "  <thead>\n",
       "    <tr style=\"text-align: right;\">\n",
       "      <th></th>\n",
       "      <th>firm</th>\n",
       "      <th>date_review</th>\n",
       "      <th>job_title</th>\n",
       "      <th>current</th>\n",
       "      <th>location</th>\n",
       "      <th>overall_rating</th>\n",
       "      <th>work_life_balance</th>\n",
       "      <th>culture_values</th>\n",
       "      <th>diversity_inclusion</th>\n",
       "      <th>career_opp</th>\n",
       "      <th>...</th>\n",
       "      <th>headline</th>\n",
       "      <th>pros</th>\n",
       "      <th>cons</th>\n",
       "      <th>headline_num</th>\n",
       "      <th>cons_num</th>\n",
       "      <th>pros_num</th>\n",
       "      <th>industry</th>\n",
       "      <th>recommend_num</th>\n",
       "      <th>ceo_approv_num</th>\n",
       "      <th>outlook_num</th>\n",
       "    </tr>\n",
       "  </thead>\n",
       "  <tbody>\n",
       "    <tr>\n",
       "      <th>0</th>\n",
       "      <td>AFH-Wealth-Management</td>\n",
       "      <td>2015-04-05</td>\n",
       "      <td>NaN</td>\n",
       "      <td>Current Employee</td>\n",
       "      <td>NaN</td>\n",
       "      <td>2</td>\n",
       "      <td>4.0</td>\n",
       "      <td>3.0</td>\n",
       "      <td>NaN</td>\n",
       "      <td>2.0</td>\n",
       "      <td>...</td>\n",
       "      <td>Young colleagues, poor micro management</td>\n",
       "      <td>Very friendly and welcoming to new staff. Easy...</td>\n",
       "      <td>Poor salaries, poor training and communication.</td>\n",
       "      <td>-0.4767</td>\n",
       "      <td>-0.7351</td>\n",
       "      <td>0.8610</td>\n",
       "      <td>Finance</td>\n",
       "      <td>1.0</td>\n",
       "      <td>NaN</td>\n",
       "      <td>2.0</td>\n",
       "    </tr>\n",
       "    <tr>\n",
       "      <th>1</th>\n",
       "      <td>AFH-Wealth-Management</td>\n",
       "      <td>2015-12-11</td>\n",
       "      <td>Office Administrator</td>\n",
       "      <td>Current Employee, more than 1 year</td>\n",
       "      <td>Bromsgrove, England, England</td>\n",
       "      <td>2</td>\n",
       "      <td>3.0</td>\n",
       "      <td>1.0</td>\n",
       "      <td>NaN</td>\n",
       "      <td>2.0</td>\n",
       "      <td>...</td>\n",
       "      <td>Excellent staff, poor salary</td>\n",
       "      <td>Friendly, helpful and hard-working colleagues</td>\n",
       "      <td>Poor salary which doesn't improve much with pr...</td>\n",
       "      <td>0.1531</td>\n",
       "      <td>-0.8663</td>\n",
       "      <td>0.7184</td>\n",
       "      <td>Finance</td>\n",
       "      <td>1.0</td>\n",
       "      <td>NaN</td>\n",
       "      <td>2.0</td>\n",
       "    </tr>\n",
       "    <tr>\n",
       "      <th>2</th>\n",
       "      <td>AFH-Wealth-Management</td>\n",
       "      <td>2016-01-28</td>\n",
       "      <td>Office Administrator</td>\n",
       "      <td>Current Employee, less than 1 year</td>\n",
       "      <td>Bromsgrove, England, England</td>\n",
       "      <td>1</td>\n",
       "      <td>1.0</td>\n",
       "      <td>1.0</td>\n",
       "      <td>NaN</td>\n",
       "      <td>1.0</td>\n",
       "      <td>...</td>\n",
       "      <td>Low salary, bad micromanagement</td>\n",
       "      <td>Easy to get the job even without experience in...</td>\n",
       "      <td>Very low salary, poor working conditions, very...</td>\n",
       "      <td>-0.6808</td>\n",
       "      <td>0.1709</td>\n",
       "      <td>0.4404</td>\n",
       "      <td>Finance</td>\n",
       "      <td>1.0</td>\n",
       "      <td>NaN</td>\n",
       "      <td>1.0</td>\n",
       "    </tr>\n",
       "    <tr>\n",
       "      <th>3</th>\n",
       "      <td>AFH-Wealth-Management</td>\n",
       "      <td>2016-04-16</td>\n",
       "      <td>NaN</td>\n",
       "      <td>Current Employee</td>\n",
       "      <td>NaN</td>\n",
       "      <td>5</td>\n",
       "      <td>2.0</td>\n",
       "      <td>3.0</td>\n",
       "      <td>NaN</td>\n",
       "      <td>2.0</td>\n",
       "      <td>...</td>\n",
       "      <td>Over promised under delivered</td>\n",
       "      <td>Nice staff to work with</td>\n",
       "      <td>No career progression and salary is poor</td>\n",
       "      <td>0.3612</td>\n",
       "      <td>-0.6486</td>\n",
       "      <td>0.4215</td>\n",
       "      <td>Finance</td>\n",
       "      <td>1.0</td>\n",
       "      <td>NaN</td>\n",
       "      <td>2.0</td>\n",
       "    </tr>\n",
       "    <tr>\n",
       "      <th>4</th>\n",
       "      <td>AFH-Wealth-Management</td>\n",
       "      <td>2016-04-23</td>\n",
       "      <td>Office Administrator</td>\n",
       "      <td>Current Employee, more than 1 year</td>\n",
       "      <td>Bromsgrove, England, England</td>\n",
       "      <td>1</td>\n",
       "      <td>2.0</td>\n",
       "      <td>1.0</td>\n",
       "      <td>NaN</td>\n",
       "      <td>2.0</td>\n",
       "      <td>...</td>\n",
       "      <td>client reporting admin</td>\n",
       "      <td>Easy to get the job, Nice colleagues.</td>\n",
       "      <td>Abysmal pay, around minimum wage. No actual tr...</td>\n",
       "      <td>0.0000</td>\n",
       "      <td>-0.7861</td>\n",
       "      <td>0.6908</td>\n",
       "      <td>Finance</td>\n",
       "      <td>1.0</td>\n",
       "      <td>NaN</td>\n",
       "      <td>1.0</td>\n",
       "    </tr>\n",
       "    <tr>\n",
       "      <th>...</th>\n",
       "      <td>...</td>\n",
       "      <td>...</td>\n",
       "      <td>...</td>\n",
       "      <td>...</td>\n",
       "      <td>...</td>\n",
       "      <td>...</td>\n",
       "      <td>...</td>\n",
       "      <td>...</td>\n",
       "      <td>...</td>\n",
       "      <td>...</td>\n",
       "      <td>...</td>\n",
       "      <td>...</td>\n",
       "      <td>...</td>\n",
       "      <td>...</td>\n",
       "      <td>...</td>\n",
       "      <td>...</td>\n",
       "      <td>...</td>\n",
       "      <td>...</td>\n",
       "      <td>...</td>\n",
       "      <td>...</td>\n",
       "      <td>...</td>\n",
       "    </tr>\n",
       "    <tr>\n",
       "      <th>286369</th>\n",
       "      <td>Google</td>\n",
       "      <td>2009-05-10</td>\n",
       "      <td>Accountant</td>\n",
       "      <td>Former Employee</td>\n",
       "      <td>NaN</td>\n",
       "      <td>5</td>\n",
       "      <td>5.0</td>\n",
       "      <td>NaN</td>\n",
       "      <td>NaN</td>\n",
       "      <td>5.0</td>\n",
       "      <td>...</td>\n",
       "      <td>Great place</td>\n",
       "      <td>I've also heard about how Google's stack ranki...</td>\n",
       "      <td>A few years ago during the internet boom we al...</td>\n",
       "      <td>0.6249</td>\n",
       "      <td>0.9253</td>\n",
       "      <td>0.4592</td>\n",
       "      <td>IT</td>\n",
       "      <td>5.0</td>\n",
       "      <td>2.0</td>\n",
       "      <td>NaN</td>\n",
       "    </tr>\n",
       "    <tr>\n",
       "      <th>286370</th>\n",
       "      <td>Google</td>\n",
       "      <td>2009-05-10</td>\n",
       "      <td>Software Engineer</td>\n",
       "      <td>Current Employee</td>\n",
       "      <td>Mountain View, CA</td>\n",
       "      <td>4</td>\n",
       "      <td>3.0</td>\n",
       "      <td>NaN</td>\n",
       "      <td>NaN</td>\n",
       "      <td>3.0</td>\n",
       "      <td>...</td>\n",
       "      <td>Big company with pockets of start-up projects</td>\n",
       "      <td>Your colleagues are smart, motivated, inventiv...</td>\n",
       "      <td>Big company syndrome. We have dozens of VPs an...</td>\n",
       "      <td>0.0000</td>\n",
       "      <td>-0.2493</td>\n",
       "      <td>0.9536</td>\n",
       "      <td>IT</td>\n",
       "      <td>5.0</td>\n",
       "      <td>5.0</td>\n",
       "      <td>NaN</td>\n",
       "    </tr>\n",
       "    <tr>\n",
       "      <th>286371</th>\n",
       "      <td>Google</td>\n",
       "      <td>2009-05-11</td>\n",
       "      <td>Associate Financial Analyst</td>\n",
       "      <td>Current Employee</td>\n",
       "      <td>Mountain View, CA</td>\n",
       "      <td>3</td>\n",
       "      <td>4.0</td>\n",
       "      <td>NaN</td>\n",
       "      <td>NaN</td>\n",
       "      <td>2.0</td>\n",
       "      <td>...</td>\n",
       "      <td>Great people, Great intentions, sometimes bori...</td>\n",
       "      <td>Benefits of course. Free food, free transporta...</td>\n",
       "      <td>Mundane work. If you are not an engineer, you ...</td>\n",
       "      <td>0.7845</td>\n",
       "      <td>0.2960</td>\n",
       "      <td>0.9468</td>\n",
       "      <td>IT</td>\n",
       "      <td>NaN</td>\n",
       "      <td>5.0</td>\n",
       "      <td>NaN</td>\n",
       "    </tr>\n",
       "    <tr>\n",
       "      <th>286372</th>\n",
       "      <td>Google</td>\n",
       "      <td>2009-05-12</td>\n",
       "      <td>Senior Software Engineer</td>\n",
       "      <td>Former Employee</td>\n",
       "      <td>Mountain View, CA</td>\n",
       "      <td>4</td>\n",
       "      <td>5.0</td>\n",
       "      <td>NaN</td>\n",
       "      <td>NaN</td>\n",
       "      <td>2.0</td>\n",
       "      <td>...</td>\n",
       "      <td>Good place to work if you like large companies.</td>\n",
       "      <td>Great work environment. Especially software en...</td>\n",
       "      <td>Little influence on which area you get assigne...</td>\n",
       "      <td>0.6597</td>\n",
       "      <td>0.0000</td>\n",
       "      <td>0.9636</td>\n",
       "      <td>IT</td>\n",
       "      <td>5.0</td>\n",
       "      <td>5.0</td>\n",
       "      <td>NaN</td>\n",
       "    </tr>\n",
       "    <tr>\n",
       "      <th>286373</th>\n",
       "      <td>Google</td>\n",
       "      <td>2009-05-13</td>\n",
       "      <td>Manager, Online Sales &amp; Operations</td>\n",
       "      <td>Former Employee</td>\n",
       "      <td>Mountain View, CA</td>\n",
       "      <td>5</td>\n",
       "      <td>5.0</td>\n",
       "      <td>NaN</td>\n",
       "      <td>NaN</td>\n",
       "      <td>4.0</td>\n",
       "      <td>...</td>\n",
       "      <td>Still a great company to work for, but underst...</td>\n",
       "      <td>Google offers a great environment where you ar...</td>\n",
       "      <td>NaN</td>\n",
       "      <td>0.3716</td>\n",
       "      <td>NaN</td>\n",
       "      <td>0.8176</td>\n",
       "      <td>IT</td>\n",
       "      <td>5.0</td>\n",
       "      <td>5.0</td>\n",
       "      <td>NaN</td>\n",
       "    </tr>\n",
       "  </tbody>\n",
       "</table>\n",
       "<p>286373 rows × 25 columns</p>\n",
       "</div>"
      ],
      "text/plain": [
       "                         firm date_review  \\\n",
       "0       AFH-Wealth-Management  2015-04-05   \n",
       "1       AFH-Wealth-Management  2015-12-11   \n",
       "2       AFH-Wealth-Management  2016-01-28   \n",
       "3       AFH-Wealth-Management  2016-04-16   \n",
       "4       AFH-Wealth-Management  2016-04-23   \n",
       "...                       ...         ...   \n",
       "286369                 Google  2009-05-10   \n",
       "286370                 Google  2009-05-10   \n",
       "286371                 Google  2009-05-11   \n",
       "286372                 Google  2009-05-12   \n",
       "286373                 Google  2009-05-13   \n",
       "\n",
       "                                  job_title  \\\n",
       "0                                       NaN   \n",
       "1                      Office Administrator   \n",
       "2                      Office Administrator   \n",
       "3                                       NaN   \n",
       "4                      Office Administrator   \n",
       "...                                     ...   \n",
       "286369                           Accountant   \n",
       "286370                    Software Engineer   \n",
       "286371          Associate Financial Analyst   \n",
       "286372             Senior Software Engineer   \n",
       "286373   Manager, Online Sales & Operations   \n",
       "\n",
       "                                   current                      location  \\\n",
       "0                         Current Employee                           NaN   \n",
       "1       Current Employee, more than 1 year  Bromsgrove, England, England   \n",
       "2       Current Employee, less than 1 year  Bromsgrove, England, England   \n",
       "3                         Current Employee                           NaN   \n",
       "4       Current Employee, more than 1 year  Bromsgrove, England, England   \n",
       "...                                    ...                           ...   \n",
       "286369                     Former Employee                           NaN   \n",
       "286370                    Current Employee             Mountain View, CA   \n",
       "286371                    Current Employee             Mountain View, CA   \n",
       "286372                     Former Employee             Mountain View, CA   \n",
       "286373                     Former Employee             Mountain View, CA   \n",
       "\n",
       "        overall_rating  work_life_balance  culture_values  \\\n",
       "0                    2                4.0             3.0   \n",
       "1                    2                3.0             1.0   \n",
       "2                    1                1.0             1.0   \n",
       "3                    5                2.0             3.0   \n",
       "4                    1                2.0             1.0   \n",
       "...                ...                ...             ...   \n",
       "286369               5                5.0             NaN   \n",
       "286370               4                3.0             NaN   \n",
       "286371               3                4.0             NaN   \n",
       "286372               4                5.0             NaN   \n",
       "286373               5                5.0             NaN   \n",
       "\n",
       "        diversity_inclusion  career_opp  ...  \\\n",
       "0                       NaN         2.0  ...   \n",
       "1                       NaN         2.0  ...   \n",
       "2                       NaN         1.0  ...   \n",
       "3                       NaN         2.0  ...   \n",
       "4                       NaN         2.0  ...   \n",
       "...                     ...         ...  ...   \n",
       "286369                  NaN         5.0  ...   \n",
       "286370                  NaN         3.0  ...   \n",
       "286371                  NaN         2.0  ...   \n",
       "286372                  NaN         2.0  ...   \n",
       "286373                  NaN         4.0  ...   \n",
       "\n",
       "                                                 headline  \\\n",
       "0                 Young colleagues, poor micro management   \n",
       "1                            Excellent staff, poor salary   \n",
       "2                         Low salary, bad micromanagement   \n",
       "3                           Over promised under delivered   \n",
       "4                                  client reporting admin   \n",
       "...                                                   ...   \n",
       "286369                                        Great place   \n",
       "286370      Big company with pockets of start-up projects   \n",
       "286371  Great people, Great intentions, sometimes bori...   \n",
       "286372    Good place to work if you like large companies.   \n",
       "286373  Still a great company to work for, but underst...   \n",
       "\n",
       "                                                     pros  \\\n",
       "0       Very friendly and welcoming to new staff. Easy...   \n",
       "1           Friendly, helpful and hard-working colleagues   \n",
       "2       Easy to get the job even without experience in...   \n",
       "3                                 Nice staff to work with   \n",
       "4                   Easy to get the job, Nice colleagues.   \n",
       "...                                                   ...   \n",
       "286369  I've also heard about how Google's stack ranki...   \n",
       "286370  Your colleagues are smart, motivated, inventiv...   \n",
       "286371  Benefits of course. Free food, free transporta...   \n",
       "286372  Great work environment. Especially software en...   \n",
       "286373  Google offers a great environment where you ar...   \n",
       "\n",
       "                                                     cons headline_num  \\\n",
       "0         Poor salaries, poor training and communication.      -0.4767   \n",
       "1       Poor salary which doesn't improve much with pr...       0.1531   \n",
       "2       Very low salary, poor working conditions, very...      -0.6808   \n",
       "3                No career progression and salary is poor       0.3612   \n",
       "4       Abysmal pay, around minimum wage. No actual tr...       0.0000   \n",
       "...                                                   ...          ...   \n",
       "286369  A few years ago during the internet boom we al...       0.6249   \n",
       "286370  Big company syndrome. We have dozens of VPs an...       0.0000   \n",
       "286371  Mundane work. If you are not an engineer, you ...       0.7845   \n",
       "286372  Little influence on which area you get assigne...       0.6597   \n",
       "286373                                                NaN       0.3716   \n",
       "\n",
       "       cons_num pros_num industry recommend_num  ceo_approv_num  outlook_num  \n",
       "0       -0.7351   0.8610  Finance           1.0             NaN          2.0  \n",
       "1       -0.8663   0.7184  Finance           1.0             NaN          2.0  \n",
       "2        0.1709   0.4404  Finance           1.0             NaN          1.0  \n",
       "3       -0.6486   0.4215  Finance           1.0             NaN          2.0  \n",
       "4       -0.7861   0.6908  Finance           1.0             NaN          1.0  \n",
       "...         ...      ...      ...           ...             ...          ...  \n",
       "286369   0.9253   0.4592       IT           5.0             2.0          NaN  \n",
       "286370  -0.2493   0.9536       IT           5.0             5.0          NaN  \n",
       "286371   0.2960   0.9468       IT           NaN             5.0          NaN  \n",
       "286372   0.0000   0.9636       IT           5.0             5.0          NaN  \n",
       "286373      NaN   0.8176       IT           5.0             5.0          NaN  \n",
       "\n",
       "[286373 rows x 25 columns]"
      ]
     },
     "execution_count": 34,
     "metadata": {},
     "output_type": "execute_result"
    }
   ],
   "source": [
    "dpindex = df[df['pros_num'].isna()== True].index\n",
    "df.drop(index=dpindex)\n",
    "\n",
    "dpindex = df[df['pros'].isna()== True].index\n",
    "df.drop(index=dpindex)"
   ]
  }
 ],
 "metadata": {
  "kernelspec": {
   "display_name": "base",
   "language": "python",
   "name": "python3"
  },
  "language_info": {
   "codemirror_mode": {
    "name": "ipython",
    "version": 3
   },
   "file_extension": ".py",
   "mimetype": "text/x-python",
   "name": "python",
   "nbconvert_exporter": "python",
   "pygments_lexer": "ipython3",
   "version": "3.11.4"
  },
  "orig_nbformat": 4
 },
 "nbformat": 4,
 "nbformat_minor": 2
}
